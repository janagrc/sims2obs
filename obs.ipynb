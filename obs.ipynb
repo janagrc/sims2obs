{
 "cells": [
  {
   "cell_type": "markdown",
   "metadata": {},
   "source": [
    "# Evolution of the Smallest Galaxies in the Universe"
   ]
  },
  {
   "cell_type": "code",
   "execution_count": 1,
   "metadata": {},
   "outputs": [],
   "source": [
    "import pandas as pd\n",
    "import math\n",
    "import matplotlib.pyplot as plt\n",
    "import numpy as np\n",
    "import seaborn as sb\n",
    "%matplotlib inline"
   ]
  },
  {
   "cell_type": "markdown",
   "metadata": {},
   "source": [
    "The Milky Way swarms with orbiting satellite dwarf galaxies of astounding diversity. Some galaxies continue to form stars while others stop and dim in brightness. In computer simulations, the evolutionary history of each dwarf galaxy that leads to these differences is known. Galaxies can lose gas and stop forming stars due to early exposure to stellar radiation (reionization), interaction with the hot gas of the host (ram-pressure stripping), or gravitational interactions with the host/dwarf galaxies (tidal effects).\n",
    "\n",
    "We propose to use the characteristics of simulated dwarf galaxies from a suite of 20 Milky Way-like galaxies, each of which hosts ~100 dwarf galaxies, to train a supervised machine learning algorithm. The goal is to use only those dwarf galaxy characteristics observable in the present day as features to predict key aspects of their evolutionary history, such as the dominant mechanism by which they lose gas (classification), and/or the timescale of gas loss (regression). We will then apply the simulation-trained algorithm to the characteristics of our own Milky Way’s dwarf galaxy population, which have uncertain evolutionary histories. Identifying the likely histories of dwarf galaxies will help us to understand how galaxies form and evolve over time.\n"
   ]
  },
  {
   "cell_type": "markdown",
   "metadata": {},
   "source": [
    "Question: Can simulations of populations of dwarf galaxies around Milky Way-like galaxies be used to reliably predict the evolutionary histories of the observed dwarf galaxies around the Milky Way?"
   ]
  },
  {
   "cell_type": "markdown",
   "metadata": {},
   "source": [
    "We'll work with two types of data: simulations and observations. The observations come from a wide variety of sources in the literature. Our next task will be to get the data from the simulations. First stage will be to familiarize with the observational data. "
   ]
  },
  {
   "cell_type": "markdown",
   "metadata": {},
   "source": [
    "# Observational Data"
   ]
  },
  {
   "cell_type": "markdown",
   "metadata": {},
   "source": [
    "This compilation of the observed characteristics of dwarf galaxies in the Local Group. The original basis of the list is from McConnachie 2012 (https://arxiv.org/abs/1204.1562) and expanded with data from a variety of sources (e.g. https://arxiv.org/pdf/1901.05465.pdf) from the literature. The list is created in the following notebook: (https://github.com/janagrc/HIdwarflimits/blob/master/HI_Limits.ipynb)"
   ]
  },
  {
   "cell_type": "code",
   "execution_count": 2,
   "metadata": {},
   "outputs": [],
   "source": [
    "dwarfs = pd.read_csv('./dwarfs.csv',header=(0), comment='#')\n",
    "dwarfs = dwarfs.drop(['Unnamed: 0'], axis=1)"
   ]
  },
  {
   "cell_type": "code",
   "execution_count": 3,
   "metadata": {},
   "outputs": [
    {
     "data": {
      "text/plain": [
       "0                NaN\n",
       "1                NaN\n",
       "2       26302.679919\n",
       "3       25234.807725\n",
       "4       23988.329190\n",
       "           ...      \n",
       "138     27542.287033\n",
       "139     36140.986264\n",
       "140     27797.132678\n",
       "141    117489.755494\n",
       "142    107646.521363\n",
       "Name: dist_pc, Length: 143, dtype: float64"
      ]
     },
     "execution_count": 3,
     "metadata": {},
     "output_type": "execute_result"
    }
   ],
   "source": [
    "dwarfs['dist_pc']"
   ]
  },
  {
   "cell_type": "code",
   "execution_count": 4,
   "metadata": {},
   "outputs": [
    {
     "data": {
      "text/plain": [
       "['GalaxyName',\n",
       " 'RA_hr',\n",
       " 'RA_min',\n",
       " 'RA_sec',\n",
       " 'Dec_deg',\n",
       " 'Dec_arcmin',\n",
       " 'Dec_arcsec',\n",
       " 'EB-V',\n",
       " 'm-M',\n",
       " 'm-M_err_pos',\n",
       " 'm-M_err_neg',\n",
       " 'vh(km/s)',\n",
       " 'Vmag',\n",
       " 'Vmag_err_pos',\n",
       " 'Vmag_err_neg',\n",
       " 'PA',\n",
       " 'e=1-b/a',\n",
       " 'muVo',\n",
       " \"rh(')\",\n",
       " 'rh_err_pos',\n",
       " 'rh_err_neg',\n",
       " 'vsig_s',\n",
       " 'vsig_err_pos',\n",
       " 'vsig_err_neg',\n",
       " 'vrot_s',\n",
       " 'vrot_s_err_pos',\n",
       " 'vrot_s_err_neg',\n",
       " 'MHI',\n",
       " 'Data',\n",
       " 'Key',\n",
       " 'vsig_g',\n",
       " 'vsig_g_err_pos',\n",
       " 'vsig_g_err_neg',\n",
       " 'vrot_g',\n",
       " 'note',\n",
       " 'M-m',\n",
       " 'Notes',\n",
       " 'ra',\n",
       " 'dec',\n",
       " 'M_V',\n",
       " 'dist_kpc',\n",
       " 'M_dyn',\n",
       " 'M_*',\n",
       " 'vh_(km/s)_err',\n",
       " 'vsig_s_upper_limit',\n",
       " 'vsig_s_err',\n",
       " 'vh(km/s)_err',\n",
       " 'orb_pericenter',\n",
       " 'orb_apocenter',\n",
       " 'orb_eccentricity',\n",
       " 'orb_period',\n",
       " 'orb_period_type',\n",
       " 'orb_pericenter_0.8',\n",
       " 'orb_apocenter_0.8',\n",
       " 'orb_eccentricity_0.8',\n",
       " 'tau_50',\n",
       " 'tau_90',\n",
       " 'dist_pc',\n",
       " 'dist_mpc',\n",
       " 'Radius',\n",
       " 'gal_interference_min',\n",
       " 'gal_interference_max',\n",
       " 'Galactic Interference Range',\n",
       " 'MHI_computed',\n",
       " 'MHI_source',\n",
       " 'MHI_type',\n",
       " '1sigma',\n",
       " 'rh_subtable',\n",
       " 'MHI_method',\n",
       " 'npix',\n",
       " 'GUU',\n",
       " 'GRU',\n",
       " 'HUU',\n",
       " 'HRU',\n",
       " 'GNV',\n",
       " 'HNV',\n",
       " 'LIT',\n",
       " '1sigma_GUU',\n",
       " '1sigma_GRU',\n",
       " '1sigma_HUU',\n",
       " '1sigma_HRU',\n",
       " '1sigma_GNV',\n",
       " '1sigma_HNV',\n",
       " 'M_star',\n",
       " 'M_dyn_r_h',\n",
       " 'Other names',\n",
       " 'Morphology',\n",
       " 'rh_pc',\n",
       " 'rh_pc_err_pos',\n",
       " 'rh_pc_err_neg',\n",
       " 'm-M_err',\n",
       " 'Vmag_err',\n",
       " 'vsig_err',\n",
       " 'MHI_mcconnachie',\n",
       " 'vsig_g_err',\n",
       " 'GalaxyType',\n",
       " 'A_V',\n",
       " 'b_100M',\n",
       " 'b_1G',\n",
       " 'f_10G',\n",
       " 'mean_logz',\n",
       " 'Disturber',\n",
       " 'D',\n",
       " 'Theta',\n",
       " 'RA',\n",
       " 'Dec',\n",
       " 'OtherName',\n",
       " 'Subgroup',\n",
       " 'mateo_1',\n",
       " 'mateo_b',\n",
       " 'mateo_l',\n",
       " '[Fe/H]',\n",
       " '[Fe/H]_err',\n",
       " 'sigma_[Fe/H]',\n",
       " 'sigma_[Fe/H]_err',\n",
       " 'Ref1_Mateo98_Tab6',\n",
       " '12 + log(O/H)',\n",
       " 'log(O/H)_err',\n",
       " '[N/O]',\n",
       " '[N/O]_err',\n",
       " 'Ref2_Mateo98_Tab6',\n",
       " 'Notes_Mateo98_Tab6',\n",
       " 'l',\n",
       " 'b',\n",
       " 'V_LSR',\n",
       " 'V_GSR',\n",
       " 'V_LGSR',\n",
       " 'X',\n",
       " 'Y',\n",
       " 'Z',\n",
       " 'angle_from_l=0',\n",
       " 'angle_from_MW_plane',\n",
       " 'M_dyn_calculated',\n",
       " 'M_dyn_method',\n",
       " 'MHI/M_star',\n",
       " 'MHI/M_dyn',\n",
       " 'MHI/M_V',\n",
       " 'L_V',\n",
       " 'MHI/L_V',\n",
       " 'r_ell',\n",
       " 'ell_surf_dist',\n",
       " 'mw_dist',\n",
       " 'm31_dist',\n",
       " 'r_per_mean',\n",
       " 'r_per_median',\n",
       " 'r_per_std',\n",
       " 'r_per_err1',\n",
       " 'r_per_err2',\n",
       " 'v_per_mean',\n",
       " 'v_per_median',\n",
       " 'v_per_std',\n",
       " 'n_halo_peri',\n",
       " 'n_halo_peri_err1',\n",
       " 'n_halo_peri_err2',\n",
       " 'r_apo_mean',\n",
       " 'r_apo_median',\n",
       " 'r_apo_std',\n",
       " 'r_apo_err1',\n",
       " 'r_apo_err2',\n",
       " 'v_apo_mean',\n",
       " 'v_apo_median',\n",
       " 'v_apo_std',\n",
       " 'n_halo_apo',\n",
       " 'n_halo_apo_err1',\n",
       " 'n_halo_apo_err2',\n",
       " 'ell_surf_log10_abs',\n",
       " 'min_dist_mw_or_m31',\n",
       " 'Closer_MW_M31']"
      ]
     },
     "execution_count": 4,
     "metadata": {},
     "output_type": "execute_result"
    }
   ],
   "source": [
    "list(dwarfs.columns)"
   ]
  },
  {
   "cell_type": "code",
   "execution_count": 5,
   "metadata": {},
   "outputs": [],
   "source": [
    "#Rename columns to be more descriptive\n",
    "cols = ['min_dist_mw_or_m31','orb_pericenter','orb_apocenter','orb_eccentricity','orb_period','Radius','M_V','ell_surf_dist','M_dyn','vsig_s','vrot_s','vsig_g','vrot_g','muVo','tau_90','[Fe/H]','V_GSR','V_LGSR','MHI_computed']\n",
    "\n",
    "d ={'l':'l (longitude)',\n",
    "    'b':'b (latitude)',\n",
    "    'dist_pc': 'Distance',\n",
    "    'min_dist_mw_or_m31': 'Dist MW or M31, nearest',\n",
    "    'orb_pericenter': 'Orbit Pericenter',\n",
    "    'orb_apocenter': 'Orbit Apocenter',\n",
    "    'orb_eccentricity':'Orbit Eccentricity',\n",
    "    'orb_period': 'Orbit Period',\n",
    "    'rh(\\')': 'Angular Radius',\n",
    "    'Radius':'Radius [pc]', # check those\n",
    "    'M_V': 'V band Magnitude M$_{V}$',\n",
    "    'ell_surf_dist': 'Distance to LG surf',\n",
    "    'M_dyn': 'Estimated Dynamical Mass',\n",
    "    'vsig_s': 'Stellar Velocity Dispersion $\\sigma_{star}$', # distribution of velocities of stars in the dwarf\n",
    "    'vrot_s': 'Stellar Rotation Velocity $V_{rot,star}$', # distribution of velocities of gas in the dwarf\n",
    "    'vsig_g': 'HI Velocity Dispersion $\\sigma_{gas}$',\n",
    "    'vrot_g': 'HI Rotation Velocity $V_{rot,gas}$',\n",
    "    'muVo': 'Surface Brightness $\\mu_{V}$',\n",
    "    'vh(km/s)':'Heliocentric Velocity $v_{helio}$',\n",
    "    'tau_90':\"Star Formation Timescale $\\\\tau_{90}$\", # 90% of current stellar formed\n",
    "    '[Fe/H]':'Mean Metallicity $\\\\langle $[Fe/H]$\\\\rangle $', # related to time scale\n",
    "    'V_GSR':'Galactocentric Velocity $V_{GSR}$', # relative to Milky Way\n",
    "    'V_LSR':'Local Std of Rest Velocity $V_{LSR}$',\n",
    "    'V_LGSR':'Local Group Std of Rest Velocity $V_{LGSR}$',\n",
    "    'MHI_computed':'HI Mass $M_{HI}$ (Detected or Limit)', # emission line of 21cm hydrogen\n",
    "    'MHI_type': 'MHI_type', # limit or detection\n",
    "    'X':'3D Position (X)',\n",
    "    'Y':'3D Position (Y)',\n",
    "    'Z':'3D Position (Z)' # astropy\n",
    "   }\n",
    "# dwarfs = dwarfs.rename(columns=d)"
   ]
  },
  {
   "cell_type": "code",
   "execution_count": 6,
   "metadata": {},
   "outputs": [],
   "source": [
    "# check radi\n",
    "\n",
    "dists = dwarfs['dist_pc']\n",
    "ang_radi = dwarfs['rh(\\')']\n",
    "radi = [dist*ang_rad*2*math.pi/(60*360) for (dist, ang_rad) in zip(dists, ang_radi)]\n",
    "ang_radi[-4:]"
   ]
  },
  {
   "cell_type": "code",
   "execution_count": 83,
   "metadata": {},
   "outputs": [
    {
     "data": {
      "image/png": "[encoded data removed]",
      "text/plain": [
       "<Figure size 432x288 with 1 Axes>"
      ]
     },
     "metadata": {
      "needs_background": "light"
     },
     "output_type": "display_data"
    }
   ],
   "source": [
    "indices = dwarfs['MHI_type']=='detected_mass'\n",
    "\n",
    "plt.title('detected MHI vs. dynamical mass')\n",
    "plt.xlabel('dynamical mass (M_sun)')\n",
    "plt.ylabel('detected MHI (M_sun)')\n",
    "plt.scatter(dwarfs['M_dyn'][indices], dwarfs['MHI_computed'][indices])\n",
    "plt.xscale('log')\n",
    "plt.yscale('log')\n",
    "plt.show()"
   ]
  },
  {
   "cell_type": "code",
   "execution_count": 86,
   "metadata": {},
   "outputs": [
    {
     "data": {
      "image/png": "[encoded data removed]",
      "text/plain": [
       "<Figure size 432x288 with 1 Axes>"
      ]
     },
     "metadata": {
      "needs_background": "light"
     },
     "output_type": "display_data"
    }
   ],
   "source": [
    "indices = dwarfs['MHI_type']=='detected_mass'\n",
    "\n",
    "plt.title('detected MHI vs. distance from the host')\n",
    "plt.xlabel('distance from the host (kpc)')\n",
    "plt.ylabel('detected MHI (M_sun)')\n",
    "plt.scatter(dwarfs['min_dist_mw_or_m31'][indices], dwarfs['MHI_computed'][indices])\n",
    "plt.yscale('log')\n",
    "plt.show()"
   ]
  },
  {
   "cell_type": "code",
   "execution_count": 89,
   "metadata": {},
   "outputs": [
    {
     "data": {
      "image/png": "[encoded data removed]",
      "text/plain": [
       "<Figure size 432x288 with 1 Axes>"
      ]
     },
     "metadata": {
      "needs_background": "light"
     },
     "output_type": "display_data"
    }
   ],
   "source": [
    "indices = dwarfs['MHI_type']=='detected_mass'\n",
    "\n",
    "fraction = dwarfs['MHI_computed']/dwarfs['M_dyn']\n",
    "plt.title('detected MHI/M_dyn vs. distance from the host')\n",
    "plt.xlabel('distance from the host (kpc)')\n",
    "plt.ylabel('detected MHI/M_dyn')\n",
    "plt.scatter(dwarfs['min_dist_mw_or_m31'][indices], fraction[indices])\n",
    "plt.show()"
   ]
  },
  {
   "cell_type": "code",
   "execution_count": 17,
   "metadata": {},
   "outputs": [],
   "source": [
    "def plot_scatter(x, y):\n",
    "    plt.title(y+' vs. '+x)\n",
    "    plt.xlabel(x)\n",
    "    plt.ylabel(y)\n",
    "    plt.scatter(dwarfs[x], dwarfs[y])\n",
    "    plt.show()"
   ]
  }
 ],
 "metadata": {
  "kernelspec": {
   "display_name": "Python 3",
   "language": "python",
   "name": "python3"
  },
  "language_info": {
   "codemirror_mode": {
    "name": "ipython",
    "version": 3
   },
   "file_extension": ".py",
   "mimetype": "text/x-python",
   "name": "python",
   "nbconvert_exporter": "python",
   "pygments_lexer": "ipython3",
   "version": "3.7.4"
  }
 },
 "nbformat": 4,
 "nbformat_minor": 4
}
