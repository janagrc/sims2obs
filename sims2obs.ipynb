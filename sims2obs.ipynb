{
 "cells": [
  {
   "cell_type": "markdown",
   "metadata": {},
   "source": [
    "# Evolution of the Smallest Galaxies in the Universe"
   ]
  },
  {
   "cell_type": "code",
   "execution_count": 1,
   "metadata": {},
   "outputs": [],
   "source": [
    "import pandas as pd\n",
    "import math\n",
    "import matplotlib.pyplot as plt\n",
    "import numpy as np\n",
    "import seaborn as sb\n",
    "%matplotlib inline"
   ]
  },
  {
   "cell_type": "markdown",
   "metadata": {},
   "source": [
    "The Milky Way swarms with orbiting satellite dwarf galaxies of astounding diversity. Some galaxies continue to form stars while others stop and dim in brightness. In computer simulations, the evolutionary history of each dwarf galaxy that leads to these differences is known. Galaxies can lose gas and stop forming stars due to early exposure to stellar radiation (reionization), interaction with the hot gas of the host (ram-pressure stripping), or gravitational interactions with the host/dwarf galaxies (tidal effects).\n",
    "\n",
    "We propose to use the characteristics of simulated dwarf galaxies from a suite of 20 Milky Way-like galaxies, each of which hosts ~100 dwarf galaxies, to train a supervised machine learning algorithm. The goal is to use only those dwarf galaxy characteristics observable in the present day as features to predict key aspects of their evolutionary history, such as the dominant mechanism by which they lose gas (classification), and/or the timescale of gas loss (regression). We will then apply the simulation-trained algorithm to the characteristics of our own Milky Way’s dwarf galaxy population, which have uncertain evolutionary histories. Identifying the likely histories of dwarf galaxies will help us to understand how galaxies form and evolve over time.\n"
   ]
  },
  {
   "cell_type": "markdown",
   "metadata": {},
   "source": [
    "Question: Can simulations of populations of dwarf galaxies around Milky Way-like galaxies be used to reliably predict the evolutionary histories of the observed dwarf galaxies around the Milky Way?"
   ]
  },
  {
   "cell_type": "markdown",
   "metadata": {},
   "source": [
    "We'll work with two types of data: simulations and observations. The observations come from a wide variety of sources in the literature. Our next task will be to get the data from the simulations. First stage will be to familiarize with the observational data. "
   ]
  },
  {
   "cell_type": "markdown",
   "metadata": {},
   "source": [
    "# Observational Data"
   ]
  },
  {
   "cell_type": "markdown",
   "metadata": {},
   "source": [
    "This compilation of the observed characteristics of dwarf galaxies in the Local Group. The original basis of the list is from McConnachie 2012 (https://arxiv.org/abs/1204.1562) and expanded with data from a variety of sources (e.g. https://arxiv.org/pdf/1901.05465.pdf) from the literature. The list is created in the following notebook: (https://github.com/janagrc/HIdwarflimits/blob/master/HI_Limits.ipynb)"
   ]
  },
  {
   "cell_type": "code",
   "execution_count": 2,
   "metadata": {},
   "outputs": [],
   "source": [
    "dwarfs = pd.read_csv('./dwarfs.csv',header=(0), comment='#')\n",
    "dwarfs = dwarfs.drop(['Unnamed: 0'], axis=1)"
   ]
  },
  {
   "cell_type": "code",
   "execution_count": 3,
   "metadata": {},
   "outputs": [
    {
     "data": {
      "text/plain": [
       "0                NaN\n",
       "1                NaN\n",
       "2       26302.679919\n",
       "3       25234.807725\n",
       "4       23988.329190\n",
       "           ...      \n",
       "138     27542.287033\n",
       "139     36140.986264\n",
       "140     27797.132678\n",
       "141    117489.755494\n",
       "142    107646.521363\n",
       "Name: dist_pc, Length: 143, dtype: float64"
      ]
     },
     "execution_count": 3,
     "metadata": {},
     "output_type": "execute_result"
    }
   ],
   "source": [
    "dwarfs['dist_pc']"
   ]
  },
  {
   "cell_type": "code",
   "execution_count": 4,
   "metadata": {},
   "outputs": [
    {
     "data": {
      "text/plain": [
       "['GalaxyName',\n",
       " 'RA_hr',\n",
       " 'RA_min',\n",
       " 'RA_sec',\n",
       " 'Dec_deg',\n",
       " 'Dec_arcmin',\n",
       " 'Dec_arcsec',\n",
       " 'EB-V',\n",
       " 'm-M',\n",
       " 'm-M_err_pos',\n",
       " 'm-M_err_neg',\n",
       " 'vh(km/s)',\n",
       " 'Vmag',\n",
       " 'Vmag_err_pos',\n",
       " 'Vmag_err_neg',\n",
       " 'PA',\n",
       " 'e=1-b/a',\n",
       " 'muVo',\n",
       " \"rh(')\",\n",
       " 'rh_err_pos',\n",
       " 'rh_err_neg',\n",
       " 'vsig_s',\n",
       " 'vsig_err_pos',\n",
       " 'vsig_err_neg',\n",
       " 'vrot_s',\n",
       " 'vrot_s_err_pos',\n",
       " 'vrot_s_err_neg',\n",
       " 'MHI',\n",
       " 'Data',\n",
       " 'Key',\n",
       " 'vsig_g',\n",
       " 'vsig_g_err_pos',\n",
       " 'vsig_g_err_neg',\n",
       " 'vrot_g',\n",
       " 'note',\n",
       " 'M-m',\n",
       " 'Notes',\n",
       " 'ra',\n",
       " 'dec',\n",
       " 'M_V',\n",
       " 'dist_kpc',\n",
       " 'M_dyn',\n",
       " 'M_*',\n",
       " 'vh_(km/s)_err',\n",
       " 'vsig_s_upper_limit',\n",
       " 'vsig_s_err',\n",
       " 'vh(km/s)_err',\n",
       " 'orb_pericenter',\n",
       " 'orb_apocenter',\n",
       " 'orb_eccentricity',\n",
       " 'orb_period',\n",
       " 'orb_period_type',\n",
       " 'orb_pericenter_0.8',\n",
       " 'orb_apocenter_0.8',\n",
       " 'orb_eccentricity_0.8',\n",
       " 'tau_50',\n",
       " 'tau_90',\n",
       " 'dist_pc',\n",
       " 'dist_mpc',\n",
       " 'Radius',\n",
       " 'gal_interference_min',\n",
       " 'gal_interference_max',\n",
       " 'Galactic Interference Range',\n",
       " 'MHI_computed',\n",
       " 'MHI_source',\n",
       " 'MHI_type',\n",
       " '1sigma',\n",
       " 'rh_subtable',\n",
       " 'MHI_method',\n",
       " 'npix',\n",
       " 'GUU',\n",
       " 'GRU',\n",
       " 'HUU',\n",
       " 'HRU',\n",
       " 'GNV',\n",
       " 'HNV',\n",
       " 'LIT',\n",
       " '1sigma_GUU',\n",
       " '1sigma_GRU',\n",
       " '1sigma_HUU',\n",
       " '1sigma_HRU',\n",
       " '1sigma_GNV',\n",
       " '1sigma_HNV',\n",
       " 'M_star',\n",
       " 'M_dyn_r_h',\n",
       " 'Other names',\n",
       " 'Morphology',\n",
       " 'rh_pc',\n",
       " 'rh_pc_err_pos',\n",
       " 'rh_pc_err_neg',\n",
       " 'm-M_err',\n",
       " 'Vmag_err',\n",
       " 'vsig_err',\n",
       " 'MHI_mcconnachie',\n",
       " 'vsig_g_err',\n",
       " 'GalaxyType',\n",
       " 'A_V',\n",
       " 'b_100M',\n",
       " 'b_1G',\n",
       " 'f_10G',\n",
       " 'mean_logz',\n",
       " 'Disturber',\n",
       " 'D',\n",
       " 'Theta',\n",
       " 'RA',\n",
       " 'Dec',\n",
       " 'OtherName',\n",
       " 'Subgroup',\n",
       " 'mateo_1',\n",
       " 'mateo_b',\n",
       " 'mateo_l',\n",
       " '[Fe/H]',\n",
       " '[Fe/H]_err',\n",
       " 'sigma_[Fe/H]',\n",
       " 'sigma_[Fe/H]_err',\n",
       " 'Ref1_Mateo98_Tab6',\n",
       " '12 + log(O/H)',\n",
       " 'log(O/H)_err',\n",
       " '[N/O]',\n",
       " '[N/O]_err',\n",
       " 'Ref2_Mateo98_Tab6',\n",
       " 'Notes_Mateo98_Tab6',\n",
       " 'l',\n",
       " 'b',\n",
       " 'V_LSR',\n",
       " 'V_GSR',\n",
       " 'V_LGSR',\n",
       " 'X',\n",
       " 'Y',\n",
       " 'Z',\n",
       " 'angle_from_l=0',\n",
       " 'angle_from_MW_plane',\n",
       " 'M_dyn_calculated',\n",
       " 'M_dyn_method',\n",
       " 'MHI/M_star',\n",
       " 'MHI/M_dyn',\n",
       " 'MHI/M_V',\n",
       " 'L_V',\n",
       " 'MHI/L_V',\n",
       " 'r_ell',\n",
       " 'ell_surf_dist',\n",
       " 'mw_dist',\n",
       " 'm31_dist',\n",
       " 'r_per_mean',\n",
       " 'r_per_median',\n",
       " 'r_per_std',\n",
       " 'r_per_err1',\n",
       " 'r_per_err2',\n",
       " 'v_per_mean',\n",
       " 'v_per_median',\n",
       " 'v_per_std',\n",
       " 'n_halo_peri',\n",
       " 'n_halo_peri_err1',\n",
       " 'n_halo_peri_err2',\n",
       " 'r_apo_mean',\n",
       " 'r_apo_median',\n",
       " 'r_apo_std',\n",
       " 'r_apo_err1',\n",
       " 'r_apo_err2',\n",
       " 'v_apo_mean',\n",
       " 'v_apo_median',\n",
       " 'v_apo_std',\n",
       " 'n_halo_apo',\n",
       " 'n_halo_apo_err1',\n",
       " 'n_halo_apo_err2',\n",
       " 'ell_surf_log10_abs',\n",
       " 'min_dist_mw_or_m31',\n",
       " 'Closer_MW_M31']"
      ]
     },
     "execution_count": 4,
     "metadata": {},
     "output_type": "execute_result"
    }
   ],
   "source": [
    "list(dwarfs.columns)"
   ]
  },
  {
   "cell_type": "code",
   "execution_count": 5,
   "metadata": {},
   "outputs": [],
   "source": [
    "#Rename columns to be more descriptive\n",
    "cols = ['min_dist_mw_or_m31','orb_pericenter','orb_apocenter','orb_eccentricity','orb_period','Radius','M_V','ell_surf_dist','M_dyn','vsig_s','vrot_s','vsig_g','vrot_g','muVo','tau_90','[Fe/H]','V_GSR','V_LGSR','MHI_computed']\n",
    "\n",
    "d ={'l':'l (longitude)',\n",
    "    'b':'b (latitude)',\n",
    "    'dist_pc': 'Distance',\n",
    "    'min_dist_mw_or_m31': 'Dist MW or M31, nearest',\n",
    "    'orb_pericenter': 'Orbit Pericenter',\n",
    "    'orb_apocenter': 'Orbit Apocenter',\n",
    "    'orb_eccentricity':'Orbit Eccentricity',\n",
    "    'orb_period': 'Orbit Period',\n",
    "    'rh(\\')': 'Angular Radius',\n",
    "    'Radius':'Radius [pc]', # check those\n",
    "    'M_V': 'V band Magnitude M$_{V}$',\n",
    "    'ell_surf_dist': 'Distance to LG surf',\n",
    "    'M_dyn': 'Estimated Dynamical Mass',\n",
    "    'vsig_s': 'Stellar Velocity Dispersion $\\sigma_{star}$', # distribution of velocities of stars in the dwarf\n",
    "    'vrot_s': 'Stellar Rotation Velocity $V_{rot,star}$', # distribution of velocities of gas in the dwarf\n",
    "    'vsig_g': 'HI Velocity Dispersion $\\sigma_{gas}$',\n",
    "    'vrot_g': 'HI Rotation Velocity $V_{rot,gas}$',\n",
    "    'muVo': 'Surface Brightness $\\mu_{V}$',\n",
    "    'vh(km/s)':'Heliocentric Velocity $v_{helio}$',\n",
    "    'tau_90':\"Star Formation Timescale $\\\\tau_{90}$\", # 90% of current stellar formed\n",
    "    '[Fe/H]':'Mean Metallicity $\\\\langle $[Fe/H]$\\\\rangle $', # related to time scale\n",
    "    'V_GSR':'Galactocentric Velocity $V_{GSR}$', # relagive to Milky Way\n",
    "    'V_LSR':'Local Std of Rest Velocity $V_{LSR}$',\n",
    "    'V_LGSR':'Local Group Std of Rest Velocity $V_{LGSR}$',\n",
    "    'MHI_computed':'HI Mass $M_{HI}$ (Detected or Limit)', # emission line of 21cm hydrogen\n",
    "    'MHI_type': 'MHI_type', # limit or detection\n",
    "    'X':'3D Position (X)',\n",
    "    'Y':'3D Position (Y)',\n",
    "    'Z':'3D Position (Z)' # astropy\n",
    "   }\n",
    "# dwarfs = dwarfs.rename(columns=d)"
   ]
  },
  {
   "cell_type": "code",
   "execution_count": 18,
   "metadata": {},
   "outputs": [],
   "source": [
    "dists = dwarfs['dist_pc']\n",
    "ang_radi = dwarfs['rh(\\')']"
   ]
  },
  {
   "cell_type": "code",
   "execution_count": 29,
   "metadata": {},
   "outputs": [],
   "source": [
    "radi = [dist*ang_rad*2*math.pi/(60*360) for (dist, ang_rad) in zip(dists, ang_radi)]"
   ]
  },
  {
   "cell_type": "code",
   "execution_count": 35,
   "metadata": {},
   "outputs": [
    {
     "data": {
      "text/plain": [
       "139     8.69\n",
       "140     3.75\n",
       "141    31.20\n",
       "142     5.10\n",
       "Name: rh('), dtype: float64"
      ]
     },
     "execution_count": 35,
     "metadata": {},
     "output_type": "execute_result"
    }
   ],
   "source": [
    "ang_radi[-4:]"
   ]
  },
  {
   "cell_type": "code",
   "execution_count": 49,
   "metadata": {},
   "outputs": [
    {
     "data": {
      "text/plain": [
       "0     NaN\n",
       "1     NaN\n",
       "50    NaN\n",
       "Name: GalaxyName, dtype: object"
      ]
     },
     "execution_count": 49,
     "metadata": {},
     "output_type": "execute_result"
    }
   ],
   "source": [
    "dwarfs['GalaxyName'][dwarfs['GalaxyName'].isnull()]"
   ]
  },
  {
   "cell_type": "code",
   "execution_count": 50,
   "metadata": {},
   "outputs": [
    {
     "data": {
      "text/html": [
       "<div>\n",
       "<style scoped>\n",
       "    .dataframe tbody tr th:only-of-type {\n",
       "        vertical-align: middle;\n",
       "    }\n",
       "\n",
       "    .dataframe tbody tr th {\n",
       "        vertical-align: top;\n",
       "    }\n",
       "\n",
       "    .dataframe thead th {\n",
       "        text-align: right;\n",
       "    }\n",
       "</style>\n",
       "<table border=\"1\" class=\"dataframe\">\n",
       "  <thead>\n",
       "    <tr style=\"text-align: right;\">\n",
       "      <th></th>\n",
       "      <th>GalaxyName</th>\n",
       "      <th>Radius</th>\n",
       "      <th>rh(')</th>\n",
       "    </tr>\n",
       "  </thead>\n",
       "  <tbody>\n",
       "    <tr>\n",
       "      <td>0</td>\n",
       "      <td>NaN</td>\n",
       "      <td>NaN</td>\n",
       "      <td>NaN</td>\n",
       "    </tr>\n",
       "    <tr>\n",
       "      <td>1</td>\n",
       "      <td>NaN</td>\n",
       "      <td>NaN</td>\n",
       "      <td>NaN</td>\n",
       "    </tr>\n",
       "    <tr>\n",
       "      <td>50</td>\n",
       "      <td>NaN</td>\n",
       "      <td>NaN</td>\n",
       "      <td>NaN</td>\n",
       "    </tr>\n",
       "    <tr>\n",
       "      <td>135</td>\n",
       "      <td>DESJ0225+0304</td>\n",
       "      <td>NaN</td>\n",
       "      <td>2.68</td>\n",
       "    </tr>\n",
       "    <tr>\n",
       "      <td>138</td>\n",
       "      <td>HydrusI</td>\n",
       "      <td>NaN</td>\n",
       "      <td>7.42</td>\n",
       "    </tr>\n",
       "    <tr>\n",
       "      <td>139</td>\n",
       "      <td>CarinaII</td>\n",
       "      <td>NaN</td>\n",
       "      <td>8.69</td>\n",
       "    </tr>\n",
       "    <tr>\n",
       "      <td>140</td>\n",
       "      <td>CarinaIII</td>\n",
       "      <td>NaN</td>\n",
       "      <td>3.75</td>\n",
       "    </tr>\n",
       "    <tr>\n",
       "      <td>141</td>\n",
       "      <td>CraterII</td>\n",
       "      <td>NaN</td>\n",
       "      <td>31.20</td>\n",
       "    </tr>\n",
       "    <tr>\n",
       "      <td>142</td>\n",
       "      <td>AquariusII</td>\n",
       "      <td>NaN</td>\n",
       "      <td>5.10</td>\n",
       "    </tr>\n",
       "  </tbody>\n",
       "</table>\n",
       "</div>"
      ],
      "text/plain": [
       "        GalaxyName  Radius  rh(')\n",
       "0              NaN     NaN    NaN\n",
       "1              NaN     NaN    NaN\n",
       "50             NaN     NaN    NaN\n",
       "135  DESJ0225+0304     NaN   2.68\n",
       "138        HydrusI     NaN   7.42\n",
       "139       CarinaII     NaN   8.69\n",
       "140      CarinaIII     NaN   3.75\n",
       "141       CraterII     NaN  31.20\n",
       "142     AquariusII     NaN   5.10"
      ]
     },
     "execution_count": 50,
     "metadata": {},
     "output_type": "execute_result"
    }
   ],
   "source": [
    "dwarfs[['GalaxyName','Radius','rh(\\')']][dwarfs['Radius'].isnull()]"
   ]
  },
  {
   "cell_type": "code",
   "execution_count": 31,
   "metadata": {},
   "outputs": [
    {
     "data": {
      "text/plain": [
       "[nan,\n",
       " nan,\n",
       " 2616.689690098457,\n",
       " 44.04304809055597,\n",
       " 18.840389688952474,\n",
       " 29.32100106337003,\n",
       " 31.976247801851287,\n",
       " 16.537875499938103,\n",
       " 34.260265501983525,\n",
       " 147.1790854192015,\n",
       " 50.93020304621326,\n",
       " 34.292964844220585,\n",
       " 25.436300863359712,\n",
       " 76.18638509674105,\n",
       " 127.28215202114616,\n",
       " nan,\n",
       " 92.4437102336168,\n",
       " 2674.9766542917623,\n",
       " 16.059281735713817,\n",
       " 164.5430847930865,\n",
       " 38.97230680918196,\n",
       " 1105.3824426687693,\n",
       " 243.27454128200645,\n",
       " 220.66127193422625,\n",
       " 180.9422429860655,\n",
       " 47.410267237963836,\n",
       " 30.26895396519318,\n",
       " 13.681064078751078,\n",
       " 26.372579801592057,\n",
       " 282.36090207408193,\n",
       " 694.6577944831396,\n",
       " 63.964256907460275,\n",
       " 36.65191429188092,\n",
       " 318.27649054132735,\n",
       " 61.90124494792075,\n",
       " 29.390622820265477,\n",
       " 250.9227101500801,\n",
       " 329.7801934665633,\n",
       " 66.40106401476339,\n",
       " 710.9420550718074,\n",
       " 206.2927422065096,\n",
       " 74.44681113609501,\n",
       " 134.4929331442732,\n",
       " 58.22624753753867,\n",
       " 100.57260938302133,\n",
       " 77.56565594458804,\n",
       " 180.353309099053,\n",
       " 563.7883842595458,\n",
       " 176.4816132907119,\n",
       " 250.72926886132484,\n",
       " nan,\n",
       " 110.10929326744233,\n",
       " 556.7575638624253,\n",
       " 589.7408675244197,\n",
       " 671.5646244593601,\n",
       " 262.5111789195592,\n",
       " 433.5095031859847,\n",
       " 478.7941087204387,\n",
       " 709.3284383874262,\n",
       " 221.67979808803847,\n",
       " 314.6691397769785,\n",
       " 151.69961057733065,\n",
       " 1479.5096654788056,\n",
       " 1029.1624896241483,\n",
       " 114.28835632351624,\n",
       " 190.46742914563924,\n",
       " 253.3199942596827,\n",
       " 842.935145083859,\n",
       " 1467.7073660473343,\n",
       " 623.4266730190922,\n",
       " 267.95377859694065,\n",
       " 392.80321939563714,\n",
       " 324.2704417933002,\n",
       " 220.04499129697624,\n",
       " 1175.216300837293,\n",
       " 457.36854968749583,\n",
       " 361.5555550759808,\n",
       " nan,\n",
       " 366.39151866586616,\n",
       " 775.8792933081346,\n",
       " 612.3109008226107,\n",
       " 926.7773421237503,\n",
       " 469.8350496110243,\n",
       " 524.148024419746,\n",
       " 251.68305146874619,\n",
       " 123.34345911115577,\n",
       " 213.32860626060076,\n",
       " 382.0982411577597,\n",
       " 1495.7989675392796,\n",
       " 453.85169540831515,\n",
       " 508.7260172671948,\n",
       " 353.9745115489856,\n",
       " 702.8717615456234,\n",
       " 562.2706468982627,\n",
       " 120.04976432321695,\n",
       " 2340.0944308161597,\n",
       " 324.7236683965794,\n",
       " 499.07357697391075,\n",
       " 458.1877269394189,\n",
       " 283.86954546362233,\n",
       " 282.33681391777395,\n",
       " 162.37156400079698,\n",
       " 271.0557431870492,\n",
       " 1626.2771979178146,\n",
       " 439.573985512982,\n",
       " 470.87687576836106,\n",
       " 1029.0182340562396,\n",
       " nan,\n",
       " nan,\n",
       " 566.1185208200623,\n",
       " 279.7023540612712,\n",
       " 262.9202128175949,\n",
       " 2899.8519031496644,\n",
       " 248.2992499177922,\n",
       " 3024.796219398146,\n",
       " 550.1711987161441,\n",
       " 469.7925129659303,\n",
       " 578.0542873619713,\n",
       " 6812.26612270188,\n",
       " 229.10186152018625,\n",
       " 351.2375772855267,\n",
       " 202.71043029556705,\n",
       " 426.487288194473,\n",
       " 315.48259728825104,\n",
       " 1327.1566105623137,\n",
       " 781.1950028090025,\n",
       " 810.688422380959,\n",
       " 679.154568843893,\n",
       " 341.16726550667687,\n",
       " 519.8835683827341,\n",
       " 210.32173152550072,\n",
       " 374.0577274181003,\n",
       " 600.930375739915,\n",
       " 48.70009833750411,\n",
       " 89.87341176532716,\n",
       " 18.529380995390255,\n",
       " 47.86616328455835,\n",
       " 38.00295577430855,\n",
       " 59.44701090971561,\n",
       " 91.35785488996719,\n",
       " 30.321967989856457,\n",
       " 1066.3031967809402,\n",
       " 159.6968292187104]"
      ]
     },
     "execution_count": 31,
     "metadata": {},
     "output_type": "execute_result"
    }
   ],
   "source": [
    "radi"
   ]
  },
  {
   "cell_type": "code",
   "execution_count": 42,
   "metadata": {},
   "outputs": [],
   "source": [
    "detected_MHI = dwarfs['MHI_computed'][dwarfs['MHI_type']=='detected_mass']\n",
    "detected_tau90 = dwarfs['tau_90'][dwarfs['MHI_type']=='detected_mass']"
   ]
  },
  {
   "cell_type": "code",
   "execution_count": 44,
   "metadata": {},
   "outputs": [
    {
     "data": {
      "image/png": "[encoded data removed]",
      "text/plain": [
       "<Figure size 432x288 with 1 Axes>"
      ]
     },
     "metadata": {
      "needs_background": "light"
     },
     "output_type": "display_data"
    }
   ],
   "source": [
    "plt.title('detected MHI vs. detected tau90')\n",
    "plt.xlabel('detected tau90')\n",
    "plt.ylabel('detected MHI')\n",
    "plt.scatter(detected_tau90, detected_MHI)\n",
    "plt.show()"
   ]
  },
  {
   "cell_type": "code",
   "execution_count": 14,
   "metadata": {},
   "outputs": [
    {
     "data": {
      "image/png": "[encoded data removed]",
      "text/plain": [
       "<Figure size 432x288 with 1 Axes>"
      ]
     },
     "metadata": {
      "needs_background": "light"
     },
     "output_type": "display_data"
    }
   ],
   "source": [
    "plot_scatter('MHI_computed', 'tau_90')"
   ]
  },
  {
   "cell_type": "code",
   "execution_count": 7,
   "metadata": {},
   "outputs": [
    {
     "data": {
      "text/html": [
       "<div>\n",
       "<style scoped>\n",
       "    .dataframe tbody tr th:only-of-type {\n",
       "        vertical-align: middle;\n",
       "    }\n",
       "\n",
       "    .dataframe tbody tr th {\n",
       "        vertical-align: top;\n",
       "    }\n",
       "\n",
       "    .dataframe thead th {\n",
       "        text-align: right;\n",
       "    }\n",
       "</style>\n",
       "<table border=\"1\" class=\"dataframe\">\n",
       "  <thead>\n",
       "    <tr style=\"text-align: right;\">\n",
       "      <th></th>\n",
       "      <th>l</th>\n",
       "      <th>b</th>\n",
       "      <th>dist_pc</th>\n",
       "      <th>min_dist_mw_or_m31</th>\n",
       "      <th>orb_pericenter</th>\n",
       "      <th>orb_apocenter</th>\n",
       "      <th>orb_eccentricity</th>\n",
       "      <th>orb_period</th>\n",
       "      <th>rh(')</th>\n",
       "      <th>Radius</th>\n",
       "      <th>M_V</th>\n",
       "      <th>ell_surf_dist</th>\n",
       "      <th>M_dyn</th>\n",
       "      <th>vsig_s</th>\n",
       "    </tr>\n",
       "  </thead>\n",
       "  <tbody>\n",
       "    <tr>\n",
       "      <td>count</td>\n",
       "      <td>140.000000</td>\n",
       "      <td>140.000000</td>\n",
       "      <td>1.400000e+02</td>\n",
       "      <td>137.000000</td>\n",
       "      <td>42.000000</td>\n",
       "      <td>42.000000</td>\n",
       "      <td>42.000000</td>\n",
       "      <td>11.000000</td>\n",
       "      <td>136.000000</td>\n",
       "      <td>134.000000</td>\n",
       "      <td>137.000000</td>\n",
       "      <td>137.000000</td>\n",
       "      <td>1.360000e+02</td>\n",
       "      <td>88.000000</td>\n",
       "    </tr>\n",
       "    <tr>\n",
       "      <td>mean</td>\n",
       "      <td>183.132116</td>\n",
       "      <td>2.767069</td>\n",
       "      <td>7.908271e+05</td>\n",
       "      <td>595.263315</td>\n",
       "      <td>95.976190</td>\n",
       "      <td>1086.214286</td>\n",
       "      <td>0.445524</td>\n",
       "      <td>5.790909</td>\n",
       "      <td>7.785662</td>\n",
       "      <td>1409.861138</td>\n",
       "      <td>-8.873650</td>\n",
       "      <td>319.896538</td>\n",
       "      <td>6.384768e+09</td>\n",
       "      <td>9.175114</td>\n",
       "    </tr>\n",
       "    <tr>\n",
       "      <td>std</td>\n",
       "      <td>93.291798</td>\n",
       "      <td>46.896075</td>\n",
       "      <td>8.185577e+05</td>\n",
       "      <td>832.722722</td>\n",
       "      <td>66.255782</td>\n",
       "      <td>4808.318242</td>\n",
       "      <td>0.289340</td>\n",
       "      <td>4.137500</td>\n",
       "      <td>33.301209</td>\n",
       "      <td>6223.578348</td>\n",
       "      <td>4.529974</td>\n",
       "      <td>831.098684</td>\n",
       "      <td>3.595945e+10</td>\n",
       "      <td>10.578418</td>\n",
       "    </tr>\n",
       "    <tr>\n",
       "      <td>min</td>\n",
       "      <td>6.599240</td>\n",
       "      <td>-84.501689</td>\n",
       "      <td>2.290868e+04</td>\n",
       "      <td>18.587576</td>\n",
       "      <td>2.000000</td>\n",
       "      <td>33.000000</td>\n",
       "      <td>0.130000</td>\n",
       "      <td>0.700000</td>\n",
       "      <td>0.280000</td>\n",
       "      <td>13.681051</td>\n",
       "      <td>-18.840000</td>\n",
       "      <td>-267.253228</td>\n",
       "      <td>2.554494e+02</td>\n",
       "      <td>0.100000</td>\n",
       "    </tr>\n",
       "    <tr>\n",
       "      <td>25%</td>\n",
       "      <td>111.916901</td>\n",
       "      <td>-34.657156</td>\n",
       "      <td>9.049063e+04</td>\n",
       "      <td>77.757030</td>\n",
       "      <td>41.500000</td>\n",
       "      <td>107.250000</td>\n",
       "      <td>0.220000</td>\n",
       "      <td>2.300000</td>\n",
       "      <td>1.055000</td>\n",
       "      <td>124.328016</td>\n",
       "      <td>-12.190000</td>\n",
       "      <td>-185.217291</td>\n",
       "      <td>3.914795e+06</td>\n",
       "      <td>4.450000</td>\n",
       "    </tr>\n",
       "    <tr>\n",
       "      <td>50%</td>\n",
       "      <td>164.123120</td>\n",
       "      <td>-15.625090</td>\n",
       "      <td>6.792108e+05</td>\n",
       "      <td>160.573464</td>\n",
       "      <td>89.000000</td>\n",
       "      <td>183.500000</td>\n",
       "      <td>0.265000</td>\n",
       "      <td>3.700000</td>\n",
       "      <td>2.100000</td>\n",
       "      <td>315.075573</td>\n",
       "      <td>-9.150000</td>\n",
       "      <td>-131.368622</td>\n",
       "      <td>4.099719e+07</td>\n",
       "      <td>7.100000</td>\n",
       "    </tr>\n",
       "    <tr>\n",
       "      <td>75%</td>\n",
       "      <td>262.011357</td>\n",
       "      <td>49.112368</td>\n",
       "      <td>9.665898e+05</td>\n",
       "      <td>802.760859</td>\n",
       "      <td>146.250000</td>\n",
       "      <td>264.000000</td>\n",
       "      <td>0.707500</td>\n",
       "      <td>10.000000</td>\n",
       "      <td>4.450000</td>\n",
       "      <td>586.818671</td>\n",
       "      <td>-4.840000</td>\n",
       "      <td>468.880484</td>\n",
       "      <td>1.076310e+09</td>\n",
       "      <td>10.225000</td>\n",
       "    </tr>\n",
       "    <tr>\n",
       "      <td>max</td>\n",
       "      <td>358.081809</td>\n",
       "      <td>83.611191</td>\n",
       "      <td>2.964831e+06</td>\n",
       "      <td>2952.809678</td>\n",
       "      <td>293.000000</td>\n",
       "      <td>31214.000000</td>\n",
       "      <td>0.992000</td>\n",
       "      <td>10.000000</td>\n",
       "      <td>342.000000</td>\n",
       "      <td>48717.195309</td>\n",
       "      <td>0.020000</td>\n",
       "      <td>2711.979288</td>\n",
       "      <td>2.819949e+11</td>\n",
       "      <td>92.000000</td>\n",
       "    </tr>\n",
       "  </tbody>\n",
       "</table>\n",
       "</div>"
      ],
      "text/plain": [
       "                l           b       dist_pc  min_dist_mw_or_m31  \\\n",
       "count  140.000000  140.000000  1.400000e+02          137.000000   \n",
       "mean   183.132116    2.767069  7.908271e+05          595.263315   \n",
       "std     93.291798   46.896075  8.185577e+05          832.722722   \n",
       "min      6.599240  -84.501689  2.290868e+04           18.587576   \n",
       "25%    111.916901  -34.657156  9.049063e+04           77.757030   \n",
       "50%    164.123120  -15.625090  6.792108e+05          160.573464   \n",
       "75%    262.011357   49.112368  9.665898e+05          802.760859   \n",
       "max    358.081809   83.611191  2.964831e+06         2952.809678   \n",
       "\n",
       "       orb_pericenter  orb_apocenter  orb_eccentricity  orb_period  \\\n",
       "count       42.000000      42.000000         42.000000   11.000000   \n",
       "mean        95.976190    1086.214286          0.445524    5.790909   \n",
       "std         66.255782    4808.318242          0.289340    4.137500   \n",
       "min          2.000000      33.000000          0.130000    0.700000   \n",
       "25%         41.500000     107.250000          0.220000    2.300000   \n",
       "50%         89.000000     183.500000          0.265000    3.700000   \n",
       "75%        146.250000     264.000000          0.707500   10.000000   \n",
       "max        293.000000   31214.000000          0.992000   10.000000   \n",
       "\n",
       "            rh(')        Radius         M_V  ell_surf_dist         M_dyn  \\\n",
       "count  136.000000    134.000000  137.000000     137.000000  1.360000e+02   \n",
       "mean     7.785662   1409.861138   -8.873650     319.896538  6.384768e+09   \n",
       "std     33.301209   6223.578348    4.529974     831.098684  3.595945e+10   \n",
       "min      0.280000     13.681051  -18.840000    -267.253228  2.554494e+02   \n",
       "25%      1.055000    124.328016  -12.190000    -185.217291  3.914795e+06   \n",
       "50%      2.100000    315.075573   -9.150000    -131.368622  4.099719e+07   \n",
       "75%      4.450000    586.818671   -4.840000     468.880484  1.076310e+09   \n",
       "max    342.000000  48717.195309    0.020000    2711.979288  2.819949e+11   \n",
       "\n",
       "          vsig_s  \n",
       "count  88.000000  \n",
       "mean    9.175114  \n",
       "std    10.578418  \n",
       "min     0.100000  \n",
       "25%     4.450000  \n",
       "50%     7.100000  \n",
       "75%    10.225000  \n",
       "max    92.000000  "
      ]
     },
     "execution_count": 7,
     "metadata": {},
     "output_type": "execute_result"
    }
   ],
   "source": [
    "dwarfs[list(d.keys())[:14]].describe()"
   ]
  },
  {
   "cell_type": "code",
   "execution_count": 8,
   "metadata": {},
   "outputs": [
    {
     "data": {
      "text/html": [
       "<div>\n",
       "<style scoped>\n",
       "    .dataframe tbody tr th:only-of-type {\n",
       "        vertical-align: middle;\n",
       "    }\n",
       "\n",
       "    .dataframe tbody tr th {\n",
       "        vertical-align: top;\n",
       "    }\n",
       "\n",
       "    .dataframe thead th {\n",
       "        text-align: right;\n",
       "    }\n",
       "</style>\n",
       "<table border=\"1\" class=\"dataframe\">\n",
       "  <thead>\n",
       "    <tr style=\"text-align: right;\">\n",
       "      <th></th>\n",
       "      <th>vrot_s</th>\n",
       "      <th>vsig_g</th>\n",
       "      <th>vrot_g</th>\n",
       "      <th>muVo</th>\n",
       "      <th>vh(km/s)</th>\n",
       "      <th>tau_90</th>\n",
       "      <th>[Fe/H]</th>\n",
       "      <th>V_GSR</th>\n",
       "      <th>V_LSR</th>\n",
       "      <th>V_LGSR</th>\n",
       "      <th>MHI_computed</th>\n",
       "      <th>X</th>\n",
       "      <th>Y</th>\n",
       "      <th>Z</th>\n",
       "    </tr>\n",
       "  </thead>\n",
       "  <tbody>\n",
       "    <tr>\n",
       "      <td>count</td>\n",
       "      <td>12.000000</td>\n",
       "      <td>35.000000</td>\n",
       "      <td>22.000000</td>\n",
       "      <td>99.000000</td>\n",
       "      <td>123.000000</td>\n",
       "      <td>4.900000e+01</td>\n",
       "      <td>30.000000</td>\n",
       "      <td>123.000000</td>\n",
       "      <td>123.000000</td>\n",
       "      <td>123.000000</td>\n",
       "      <td>1.390000e+02</td>\n",
       "      <td>140.000000</td>\n",
       "      <td>140.000000</td>\n",
       "      <td>140.000000</td>\n",
       "    </tr>\n",
       "    <tr>\n",
       "      <td>mean</td>\n",
       "      <td>31.616667</td>\n",
       "      <td>11.237143</td>\n",
       "      <td>45.545455</td>\n",
       "      <td>24.616162</td>\n",
       "      <td>-29.525285</td>\n",
       "      <td>5.492693e+09</td>\n",
       "      <td>-1.680333</td>\n",
       "      <td>-10.839761</td>\n",
       "      <td>-29.134559</td>\n",
       "      <td>-2.083956</td>\n",
       "      <td>4.583674e+07</td>\n",
       "      <td>-56.092451</td>\n",
       "      <td>-2.334665</td>\n",
       "      <td>187.760151</td>\n",
       "    </tr>\n",
       "    <tr>\n",
       "      <td>std</td>\n",
       "      <td>29.337808</td>\n",
       "      <td>6.209721</td>\n",
       "      <td>31.080781</td>\n",
       "      <td>2.908843</td>\n",
       "      <td>240.187149</td>\n",
       "      <td>3.135444e+09</td>\n",
       "      <td>0.468066</td>\n",
       "      <td>188.466680</td>\n",
       "      <td>238.191990</td>\n",
       "      <td>178.573523</td>\n",
       "      <td>2.100639e+08</td>\n",
       "      <td>734.616936</td>\n",
       "      <td>423.658244</td>\n",
       "      <td>693.568017</td>\n",
       "    </tr>\n",
       "    <tr>\n",
       "      <td>min</td>\n",
       "      <td>7.700000</td>\n",
       "      <td>4.500000</td>\n",
       "      <td>5.000000</td>\n",
       "      <td>11.100000</td>\n",
       "      <td>-558.400000</td>\n",
       "      <td>2.630268e+00</td>\n",
       "      <td>-2.460000</td>\n",
       "      <td>-647.615604</td>\n",
       "      <td>-553.358877</td>\n",
       "      <td>-664.706298</td>\n",
       "      <td>4.665676e+01</td>\n",
       "      <td>-2375.859959</td>\n",
       "      <td>-1234.280673</td>\n",
       "      <td>-2222.493439</td>\n",
       "    </tr>\n",
       "    <tr>\n",
       "      <td>25%</td>\n",
       "      <td>10.975000</td>\n",
       "      <td>7.350000</td>\n",
       "      <td>21.925000</td>\n",
       "      <td>22.800000</td>\n",
       "      <td>-206.600000</td>\n",
       "      <td>2.691535e+09</td>\n",
       "      <td>-2.085000</td>\n",
       "      <td>-115.933618</td>\n",
       "      <td>-208.922795</td>\n",
       "      <td>-87.697457</td>\n",
       "      <td>1.473317e+03</td>\n",
       "      <td>-218.932333</td>\n",
       "      <td>-44.173957</td>\n",
       "      <td>-47.358334</td>\n",
       "    </tr>\n",
       "    <tr>\n",
       "      <td>50%</td>\n",
       "      <td>16.500000</td>\n",
       "      <td>9.300000</td>\n",
       "      <td>38.000000</td>\n",
       "      <td>24.800000</td>\n",
       "      <td>-39.200000</td>\n",
       "      <td>5.400000e+09</td>\n",
       "      <td>-1.655000</td>\n",
       "      <td>12.519297</td>\n",
       "      <td>-43.820876</td>\n",
       "      <td>34.809012</td>\n",
       "      <td>4.634256e+04</td>\n",
       "      <td>7.969972</td>\n",
       "      <td>11.932689</td>\n",
       "      <td>29.377108</td>\n",
       "    </tr>\n",
       "    <tr>\n",
       "      <td>75%</td>\n",
       "      <td>51.100000</td>\n",
       "      <td>13.600000</td>\n",
       "      <td>62.250000</td>\n",
       "      <td>26.850000</td>\n",
       "      <td>151.000000</td>\n",
       "      <td>7.400000e+09</td>\n",
       "      <td>-1.360000</td>\n",
       "      <td>134.268610</td>\n",
       "      <td>161.041883</td>\n",
       "      <td>126.139677</td>\n",
       "      <td>8.745131e+05</td>\n",
       "      <td>421.277458</td>\n",
       "      <td>136.832482</td>\n",
       "      <td>443.595442</td>\n",
       "    </tr>\n",
       "    <tr>\n",
       "      <td>max</td>\n",
       "      <td>90.000000</td>\n",
       "      <td>36.000000</td>\n",
       "      <td>122.000000</td>\n",
       "      <td>31.900000</td>\n",
       "      <td>477.200000</td>\n",
       "      <td>1.258925e+10</td>\n",
       "      <td>-0.830000</td>\n",
       "      <td>316.373040</td>\n",
       "      <td>463.433635</td>\n",
       "      <td>315.570343</td>\n",
       "      <td>1.800000e+09</td>\n",
       "      <td>1965.008276</td>\n",
       "      <td>1613.403880</td>\n",
       "      <td>2731.936245</td>\n",
       "    </tr>\n",
       "  </tbody>\n",
       "</table>\n",
       "</div>"
      ],
      "text/plain": [
       "          vrot_s     vsig_g      vrot_g       muVo    vh(km/s)        tau_90  \\\n",
       "count  12.000000  35.000000   22.000000  99.000000  123.000000  4.900000e+01   \n",
       "mean   31.616667  11.237143   45.545455  24.616162  -29.525285  5.492693e+09   \n",
       "std    29.337808   6.209721   31.080781   2.908843  240.187149  3.135444e+09   \n",
       "min     7.700000   4.500000    5.000000  11.100000 -558.400000  2.630268e+00   \n",
       "25%    10.975000   7.350000   21.925000  22.800000 -206.600000  2.691535e+09   \n",
       "50%    16.500000   9.300000   38.000000  24.800000  -39.200000  5.400000e+09   \n",
       "75%    51.100000  13.600000   62.250000  26.850000  151.000000  7.400000e+09   \n",
       "max    90.000000  36.000000  122.000000  31.900000  477.200000  1.258925e+10   \n",
       "\n",
       "          [Fe/H]       V_GSR       V_LSR      V_LGSR  MHI_computed  \\\n",
       "count  30.000000  123.000000  123.000000  123.000000  1.390000e+02   \n",
       "mean   -1.680333  -10.839761  -29.134559   -2.083956  4.583674e+07   \n",
       "std     0.468066  188.466680  238.191990  178.573523  2.100639e+08   \n",
       "min    -2.460000 -647.615604 -553.358877 -664.706298  4.665676e+01   \n",
       "25%    -2.085000 -115.933618 -208.922795  -87.697457  1.473317e+03   \n",
       "50%    -1.655000   12.519297  -43.820876   34.809012  4.634256e+04   \n",
       "75%    -1.360000  134.268610  161.041883  126.139677  8.745131e+05   \n",
       "max    -0.830000  316.373040  463.433635  315.570343  1.800000e+09   \n",
       "\n",
       "                 X            Y            Z  \n",
       "count   140.000000   140.000000   140.000000  \n",
       "mean    -56.092451    -2.334665   187.760151  \n",
       "std     734.616936   423.658244   693.568017  \n",
       "min   -2375.859959 -1234.280673 -2222.493439  \n",
       "25%    -218.932333   -44.173957   -47.358334  \n",
       "50%       7.969972    11.932689    29.377108  \n",
       "75%     421.277458   136.832482   443.595442  \n",
       "max    1965.008276  1613.403880  2731.936245  "
      ]
     },
     "execution_count": 8,
     "metadata": {},
     "output_type": "execute_result"
    }
   ],
   "source": [
    "dwarfs[list(d.keys())[14:]].describe()"
   ]
  },
  {
   "cell_type": "code",
   "execution_count": 9,
   "metadata": {},
   "outputs": [],
   "source": [
    "def plot_scatter(x, y):\n",
    "    plt.title(y+' vs. '+x)\n",
    "    plt.xlabel(x)\n",
    "    plt.ylabel(y)\n",
    "    plt.scatter(dwarfs[x], dwarfs[y])\n",
    "    plt.show()"
   ]
  },
  {
   "cell_type": "code",
   "execution_count": 10,
   "metadata": {},
   "outputs": [
    {
     "data": {
      "image/png": "[encoded data removed]",
      "text/plain": [
       "<Figure size 432x288 with 1 Axes>"
      ]
     },
     "metadata": {
      "needs_background": "light"
     },
     "output_type": "display_data"
    }
   ],
   "source": [
    "plot_scatter('l', 'b')"
   ]
  },
  {
   "cell_type": "code",
   "execution_count": 11,
   "metadata": {},
   "outputs": [
    {
     "data": {
      "image/png": "[encoded data removed]",
      "text/plain": [
       "<Figure size 432x288 with 1 Axes>"
      ]
     },
     "metadata": {
      "needs_background": "light"
     },
     "output_type": "display_data"
    }
   ],
   "source": [
    "plot_scatter('dist_pc', 'min_dist_mw_or_m31')"
   ]
  },
  {
   "cell_type": "code",
   "execution_count": 12,
   "metadata": {},
   "outputs": [
    {
     "data": {
      "image/png": "[encoded data removed]",
      "text/plain": [
       "<Figure size 432x288 with 1 Axes>"
      ]
     },
     "metadata": {
      "needs_background": "light"
     },
     "output_type": "display_data"
    }
   ],
   "source": [
    "plot_scatter('min_dist_mw_or_m31', 'vsig_g')"
   ]
  },
  {
   "cell_type": "code",
   "execution_count": 13,
   "metadata": {},
   "outputs": [
    {
     "data": {
      "image/png": "[encoded data removed]",
      "text/plain": [
       "<Figure size 432x288 with 1 Axes>"
      ]
     },
     "metadata": {
      "needs_background": "light"
     },
     "output_type": "display_data"
    },
    {
     "data": {
      "image/png": "[encoded data removed]",
      "text/plain": [
       "<Figure size 432x288 with 1 Axes>"
      ]
     },
     "metadata": {
      "needs_background": "light"
     },
     "output_type": "display_data"
    },
    {
     "data": {
      "image/png": "[encoded data removed]",
      "text/plain": [
       "<Figure size 432x288 with 1 Axes>"
      ]
     },
     "metadata": {
      "needs_background": "light"
     },
     "output_type": "display_data"
    },
    {
     "data": {
      "image/png": "[encoded data removed]",
      "text/plain": [
       "<Figure size 432x288 with 1 Axes>"
      ]
     },
     "metadata": {
      "needs_background": "light"
     },
     "output_type": "display_data"
    },
    {
     "data": {
      "image/png": "[encoded data removed]",
      "text/plain": [
       "<Figure size 432x288 with 1 Axes>"
      ]
     },
     "metadata": {
      "needs_background": "light"
     },
     "output_type": "display_data"
    },
    {
     "data": {
      "image/png": "[encoded data removed]",
      "text/plain": [
       "<Figure size 432x288 with 1 Axes>"
      ]
     },
     "metadata": {
      "needs_background": "light"
     },
     "output_type": "display_data"
    },
    {
     "data": {
      "image/png": "[encoded data removed]",
      "text/plain": [
       "<Figure size 432x288 with 1 Axes>"
      ]
     },
     "metadata": {
      "needs_background": "light"
     },
     "output_type": "display_data"
    },
    {
     "data": {
      "image/png": "[encoded data removed]",
      "text/plain": [
       "<Figure size 432x288 with 1 Axes>"
      ]
     },
     "metadata": {
      "needs_background": "light"
     },
     "output_type": "display_data"
    },
    {
     "data": {
      "image/png": "[encoded data removed]",
      "text/plain": [
       "<Figure size 432x288 with 1 Axes>"
      ]
     },
     "metadata": {
      "needs_background": "light"
     },
     "output_type": "display_data"
    },
    {
     "data": {
      "image/png": "[encoded data removed]",
      "text/plain": [
       "<Figure size 432x288 with 1 Axes>"
      ]
     },
     "metadata": {
      "needs_background": "light"
     },
     "output_type": "display_data"
    },
    {
     "data": {
      "image/png": "[encoded data removed]",
      "text/plain": [
       "<Figure size 432x288 with 1 Axes>"
      ]
     },
     "metadata": {
      "needs_background": "light"
     },
     "output_type": "display_data"
    },
    {
     "data": {
      "image/png": "[encoded data removed]",
      "text/plain": [
       "<Figure size 432x288 with 1 Axes>"
      ]
     },
     "metadata": {
      "needs_background": "light"
     },
     "output_type": "display_data"
    },
    {
     "data": {
      "image/png": "[encoded data removed]",
      "text/plain": [
       "<Figure size 432x288 with 1 Axes>"
      ]
     },
     "metadata": {
      "needs_background": "light"
     },
     "output_type": "display_data"
    },
    {
     "data": {
      "image/png": "[encoded data removed]",
      "text/plain": [
       "<Figure size 432x288 with 1 Axes>"
      ]
     },
     "metadata": {
      "needs_background": "light"
     },
     "output_type": "display_data"
    },
    {
     "data": {
      "image/png": "[encoded data removed]",
      "text/plain": [
       "<Figure size 432x288 with 1 Axes>"
      ]
     },
     "metadata": {
      "needs_background": "light"
     },
     "output_type": "display_data"
    },
    {
     "data": {
      "image/png": "[encoded data removed]",
      "text/plain": [
       "<Figure size 432x288 with 1 Axes>"
      ]
     },
     "metadata": {
      "needs_background": "light"
     },
     "output_type": "display_data"
    },
    {
     "data": {
      "image/png": "[encoded data removed]",
      "text/plain": [
       "<Figure size 432x288 with 1 Axes>"
      ]
     },
     "metadata": {
      "needs_background": "light"
     },
     "output_type": "display_data"
    },
    {
     "data": {
      "image/png": "[encoded data removed]",
      "text/plain": [
       "<Figure size 432x288 with 1 Axes>"
      ]
     },
     "metadata": {
      "needs_background": "light"
     },
     "output_type": "display_data"
    },
    {
     "data": {
      "image/png": "[encoded data removed]",
      "text/plain": [
       "<Figure size 432x288 with 1 Axes>"
      ]
     },
     "metadata": {
      "needs_background": "light"
     },
     "output_type": "display_data"
    },
    {
     "data": {
      "image/png": "[encoded data removed]",
      "text/plain": [
       "<Figure size 432x288 with 1 Axes>"
      ]
     },
     "metadata": {
      "needs_background": "light"
     },
     "output_type": "display_data"
    },
    {
     "data": {
      "image/png": "[encoded data removed]",
      "text/plain": [
       "<Figure size 432x288 with 1 Axes>"
      ]
     },
     "metadata": {
      "needs_background": "light"
     },
     "output_type": "display_data"
    },
    {
     "data": {
      "image/png": "[encoded data removed]",
      "text/plain": [
       "<Figure size 432x288 with 1 Axes>"
      ]
     },
     "metadata": {
      "needs_background": "light"
     },
     "output_type": "display_data"
    },
    {
     "data": {
      "image/png": "[encoded data removed]",
      "text/plain": [
       "<Figure size 432x288 with 1 Axes>"
      ]
     },
     "metadata": {
      "needs_background": "light"
     },
     "output_type": "display_data"
    },
    {
     "data": {
      "image/png": "[encoded data removed]",
      "text/plain": [
       "<Figure size 432x288 with 1 Axes>"
      ]
     },
     "metadata": {
      "needs_background": "light"
     },
     "output_type": "display_data"
    },
    {
     "data": {
      "image/png": "[encoded data removed]",
      "text/plain": [
       "<Figure size 432x288 with 1 Axes>"
      ]
     },
     "metadata": {
      "needs_background": "light"
     },
     "output_type": "display_data"
    },
    {
     "ename": "ValueError",
     "evalue": "could not convert string to float: 'upper_limit'",
     "output_type": "error",
     "traceback": [
      "\u001b[0;31m---------------------------------------------------------------------------\u001b[0m",
      "\u001b[0;31mValueError\u001b[0m                                Traceback (most recent call last)",
      "\u001b[0;32m<ipython-input-13-48e9d6034045>\u001b[0m in \u001b[0;36m<module>\u001b[0;34m\u001b[0m\n\u001b[1;32m      1\u001b[0m \u001b[0;32mfor\u001b[0m \u001b[0mc\u001b[0m \u001b[0;32min\u001b[0m \u001b[0md\u001b[0m\u001b[0;34m.\u001b[0m\u001b[0mkeys\u001b[0m\u001b[0;34m(\u001b[0m\u001b[0;34m)\u001b[0m\u001b[0;34m:\u001b[0m\u001b[0;34m\u001b[0m\u001b[0;34m\u001b[0m\u001b[0m\n\u001b[0;32m----> 2\u001b[0;31m     \u001b[0mplt\u001b[0m\u001b[0;34m.\u001b[0m\u001b[0mscatter\u001b[0m\u001b[0;34m(\u001b[0m\u001b[0mrange\u001b[0m\u001b[0;34m(\u001b[0m\u001b[0mlen\u001b[0m\u001b[0;34m(\u001b[0m\u001b[0mdwarfs\u001b[0m\u001b[0;34m[\u001b[0m\u001b[0mc\u001b[0m\u001b[0;34m]\u001b[0m\u001b[0;34m)\u001b[0m\u001b[0;34m)\u001b[0m\u001b[0;34m,\u001b[0m \u001b[0mdwarfs\u001b[0m\u001b[0;34m[\u001b[0m\u001b[0mc\u001b[0m\u001b[0;34m]\u001b[0m\u001b[0;34m)\u001b[0m\u001b[0;34m\u001b[0m\u001b[0;34m\u001b[0m\u001b[0m\n\u001b[0m\u001b[1;32m      3\u001b[0m     \u001b[0mplt\u001b[0m\u001b[0;34m.\u001b[0m\u001b[0mtitle\u001b[0m\u001b[0;34m(\u001b[0m\u001b[0mc\u001b[0m\u001b[0;34m)\u001b[0m\u001b[0;34m\u001b[0m\u001b[0;34m\u001b[0m\u001b[0m\n\u001b[1;32m      4\u001b[0m     \u001b[0mplt\u001b[0m\u001b[0;34m.\u001b[0m\u001b[0mshow\u001b[0m\u001b[0;34m(\u001b[0m\u001b[0;34m)\u001b[0m\u001b[0;34m\u001b[0m\u001b[0;34m\u001b[0m\u001b[0m\n",
      "\u001b[0;32m~/opt/anaconda3/lib/python3.7/site-packages/matplotlib/pyplot.py\u001b[0m in \u001b[0;36mscatter\u001b[0;34m(x, y, s, c, marker, cmap, norm, vmin, vmax, alpha, linewidths, verts, edgecolors, plotnonfinite, data, **kwargs)\u001b[0m\n\u001b[1;32m   2845\u001b[0m         \u001b[0mverts\u001b[0m\u001b[0;34m=\u001b[0m\u001b[0mverts\u001b[0m\u001b[0;34m,\u001b[0m \u001b[0medgecolors\u001b[0m\u001b[0;34m=\u001b[0m\u001b[0medgecolors\u001b[0m\u001b[0;34m,\u001b[0m\u001b[0;34m\u001b[0m\u001b[0;34m\u001b[0m\u001b[0m\n\u001b[1;32m   2846\u001b[0m         plotnonfinite=plotnonfinite, **({\"data\": data} if data is not\n\u001b[0;32m-> 2847\u001b[0;31m         None else {}), **kwargs)\n\u001b[0m\u001b[1;32m   2848\u001b[0m     \u001b[0msci\u001b[0m\u001b[0;34m(\u001b[0m\u001b[0m__ret\u001b[0m\u001b[0;34m)\u001b[0m\u001b[0;34m\u001b[0m\u001b[0;34m\u001b[0m\u001b[0m\n\u001b[1;32m   2849\u001b[0m     \u001b[0;32mreturn\u001b[0m \u001b[0m__ret\u001b[0m\u001b[0;34m\u001b[0m\u001b[0;34m\u001b[0m\u001b[0m\n",
      "\u001b[0;32m~/opt/anaconda3/lib/python3.7/site-packages/matplotlib/__init__.py\u001b[0m in \u001b[0;36minner\u001b[0;34m(ax, data, *args, **kwargs)\u001b[0m\n\u001b[1;32m   1599\u001b[0m     \u001b[0;32mdef\u001b[0m \u001b[0minner\u001b[0m\u001b[0;34m(\u001b[0m\u001b[0max\u001b[0m\u001b[0;34m,\u001b[0m \u001b[0;34m*\u001b[0m\u001b[0margs\u001b[0m\u001b[0;34m,\u001b[0m \u001b[0mdata\u001b[0m\u001b[0;34m=\u001b[0m\u001b[0;32mNone\u001b[0m\u001b[0;34m,\u001b[0m \u001b[0;34m**\u001b[0m\u001b[0mkwargs\u001b[0m\u001b[0;34m)\u001b[0m\u001b[0;34m:\u001b[0m\u001b[0;34m\u001b[0m\u001b[0;34m\u001b[0m\u001b[0m\n\u001b[1;32m   1600\u001b[0m         \u001b[0;32mif\u001b[0m \u001b[0mdata\u001b[0m \u001b[0;32mis\u001b[0m \u001b[0;32mNone\u001b[0m\u001b[0;34m:\u001b[0m\u001b[0;34m\u001b[0m\u001b[0;34m\u001b[0m\u001b[0m\n\u001b[0;32m-> 1601\u001b[0;31m             \u001b[0;32mreturn\u001b[0m \u001b[0mfunc\u001b[0m\u001b[0;34m(\u001b[0m\u001b[0max\u001b[0m\u001b[0;34m,\u001b[0m \u001b[0;34m*\u001b[0m\u001b[0mmap\u001b[0m\u001b[0;34m(\u001b[0m\u001b[0msanitize_sequence\u001b[0m\u001b[0;34m,\u001b[0m \u001b[0margs\u001b[0m\u001b[0;34m)\u001b[0m\u001b[0;34m,\u001b[0m \u001b[0;34m**\u001b[0m\u001b[0mkwargs\u001b[0m\u001b[0;34m)\u001b[0m\u001b[0;34m\u001b[0m\u001b[0;34m\u001b[0m\u001b[0m\n\u001b[0m\u001b[1;32m   1602\u001b[0m \u001b[0;34m\u001b[0m\u001b[0m\n\u001b[1;32m   1603\u001b[0m         \u001b[0mbound\u001b[0m \u001b[0;34m=\u001b[0m \u001b[0mnew_sig\u001b[0m\u001b[0;34m.\u001b[0m\u001b[0mbind\u001b[0m\u001b[0;34m(\u001b[0m\u001b[0max\u001b[0m\u001b[0;34m,\u001b[0m \u001b[0;34m*\u001b[0m\u001b[0margs\u001b[0m\u001b[0;34m,\u001b[0m \u001b[0;34m**\u001b[0m\u001b[0mkwargs\u001b[0m\u001b[0;34m)\u001b[0m\u001b[0;34m\u001b[0m\u001b[0;34m\u001b[0m\u001b[0m\n",
      "\u001b[0;32m~/opt/anaconda3/lib/python3.7/site-packages/matplotlib/axes/_axes.py\u001b[0m in \u001b[0;36mscatter\u001b[0;34m(self, x, y, s, c, marker, cmap, norm, vmin, vmax, alpha, linewidths, verts, edgecolors, plotnonfinite, **kwargs)\u001b[0m\n\u001b[1;32m   4496\u001b[0m                 \u001b[0moffsets\u001b[0m\u001b[0;34m=\u001b[0m\u001b[0moffsets\u001b[0m\u001b[0;34m,\u001b[0m\u001b[0;34m\u001b[0m\u001b[0;34m\u001b[0m\u001b[0m\n\u001b[1;32m   4497\u001b[0m                 \u001b[0mtransOffset\u001b[0m\u001b[0;34m=\u001b[0m\u001b[0mkwargs\u001b[0m\u001b[0;34m.\u001b[0m\u001b[0mpop\u001b[0m\u001b[0;34m(\u001b[0m\u001b[0;34m'transform'\u001b[0m\u001b[0;34m,\u001b[0m \u001b[0mself\u001b[0m\u001b[0;34m.\u001b[0m\u001b[0mtransData\u001b[0m\u001b[0;34m)\u001b[0m\u001b[0;34m,\u001b[0m\u001b[0;34m\u001b[0m\u001b[0;34m\u001b[0m\u001b[0m\n\u001b[0;32m-> 4498\u001b[0;31m                 \u001b[0malpha\u001b[0m\u001b[0;34m=\u001b[0m\u001b[0malpha\u001b[0m\u001b[0;34m\u001b[0m\u001b[0;34m\u001b[0m\u001b[0m\n\u001b[0m\u001b[1;32m   4499\u001b[0m                 )\n\u001b[1;32m   4500\u001b[0m         \u001b[0mcollection\u001b[0m\u001b[0;34m.\u001b[0m\u001b[0mset_transform\u001b[0m\u001b[0;34m(\u001b[0m\u001b[0mmtransforms\u001b[0m\u001b[0;34m.\u001b[0m\u001b[0mIdentityTransform\u001b[0m\u001b[0;34m(\u001b[0m\u001b[0;34m)\u001b[0m\u001b[0;34m)\u001b[0m\u001b[0;34m\u001b[0m\u001b[0;34m\u001b[0m\u001b[0m\n",
      "\u001b[0;32m~/opt/anaconda3/lib/python3.7/site-packages/matplotlib/collections.py\u001b[0m in \u001b[0;36m__init__\u001b[0;34m(self, paths, sizes, **kwargs)\u001b[0m\n\u001b[1;32m    881\u001b[0m         \"\"\"\n\u001b[1;32m    882\u001b[0m \u001b[0;34m\u001b[0m\u001b[0m\n\u001b[0;32m--> 883\u001b[0;31m         \u001b[0mCollection\u001b[0m\u001b[0;34m.\u001b[0m\u001b[0m__init__\u001b[0m\u001b[0;34m(\u001b[0m\u001b[0mself\u001b[0m\u001b[0;34m,\u001b[0m \u001b[0;34m**\u001b[0m\u001b[0mkwargs\u001b[0m\u001b[0;34m)\u001b[0m\u001b[0;34m\u001b[0m\u001b[0;34m\u001b[0m\u001b[0m\n\u001b[0m\u001b[1;32m    884\u001b[0m         \u001b[0mself\u001b[0m\u001b[0;34m.\u001b[0m\u001b[0mset_paths\u001b[0m\u001b[0;34m(\u001b[0m\u001b[0mpaths\u001b[0m\u001b[0;34m)\u001b[0m\u001b[0;34m\u001b[0m\u001b[0;34m\u001b[0m\u001b[0m\n\u001b[1;32m    885\u001b[0m         \u001b[0mself\u001b[0m\u001b[0;34m.\u001b[0m\u001b[0mset_sizes\u001b[0m\u001b[0;34m(\u001b[0m\u001b[0msizes\u001b[0m\u001b[0;34m)\u001b[0m\u001b[0;34m\u001b[0m\u001b[0;34m\u001b[0m\u001b[0m\n",
      "\u001b[0;32m~/opt/anaconda3/lib/python3.7/site-packages/matplotlib/collections.py\u001b[0m in \u001b[0;36m__init__\u001b[0;34m(self, edgecolors, facecolors, linewidths, linestyles, capstyle, joinstyle, antialiaseds, offsets, transOffset, norm, cmap, pickradius, hatch, urls, offset_position, zorder, **kwargs)\u001b[0m\n\u001b[1;32m    149\u001b[0m         \u001b[0mself\u001b[0m\u001b[0;34m.\u001b[0m\u001b[0m_uniform_offsets\u001b[0m \u001b[0;34m=\u001b[0m \u001b[0;32mNone\u001b[0m\u001b[0;34m\u001b[0m\u001b[0;34m\u001b[0m\u001b[0m\n\u001b[1;32m    150\u001b[0m         \u001b[0;32mif\u001b[0m \u001b[0moffsets\u001b[0m \u001b[0;32mis\u001b[0m \u001b[0;32mnot\u001b[0m \u001b[0;32mNone\u001b[0m\u001b[0;34m:\u001b[0m\u001b[0;34m\u001b[0m\u001b[0;34m\u001b[0m\u001b[0m\n\u001b[0;32m--> 151\u001b[0;31m             \u001b[0moffsets\u001b[0m \u001b[0;34m=\u001b[0m \u001b[0mnp\u001b[0m\u001b[0;34m.\u001b[0m\u001b[0masanyarray\u001b[0m\u001b[0;34m(\u001b[0m\u001b[0moffsets\u001b[0m\u001b[0;34m,\u001b[0m \u001b[0mfloat\u001b[0m\u001b[0;34m)\u001b[0m\u001b[0;34m\u001b[0m\u001b[0;34m\u001b[0m\u001b[0m\n\u001b[0m\u001b[1;32m    152\u001b[0m             \u001b[0;31m# Broadcast (2,) -> (1, 2) but nothing else.\u001b[0m\u001b[0;34m\u001b[0m\u001b[0;34m\u001b[0m\u001b[0;34m\u001b[0m\u001b[0m\n\u001b[1;32m    153\u001b[0m             \u001b[0;32mif\u001b[0m \u001b[0moffsets\u001b[0m\u001b[0;34m.\u001b[0m\u001b[0mshape\u001b[0m \u001b[0;34m==\u001b[0m \u001b[0;34m(\u001b[0m\u001b[0;36m2\u001b[0m\u001b[0;34m,\u001b[0m\u001b[0;34m)\u001b[0m\u001b[0;34m:\u001b[0m\u001b[0;34m\u001b[0m\u001b[0;34m\u001b[0m\u001b[0m\n",
      "\u001b[0;32m~/opt/anaconda3/lib/python3.7/site-packages/numpy/core/_asarray.py\u001b[0m in \u001b[0;36masanyarray\u001b[0;34m(a, dtype, order)\u001b[0m\n\u001b[1;32m    136\u001b[0m \u001b[0;34m\u001b[0m\u001b[0m\n\u001b[1;32m    137\u001b[0m     \"\"\"\n\u001b[0;32m--> 138\u001b[0;31m     \u001b[0;32mreturn\u001b[0m \u001b[0marray\u001b[0m\u001b[0;34m(\u001b[0m\u001b[0ma\u001b[0m\u001b[0;34m,\u001b[0m \u001b[0mdtype\u001b[0m\u001b[0;34m,\u001b[0m \u001b[0mcopy\u001b[0m\u001b[0;34m=\u001b[0m\u001b[0;32mFalse\u001b[0m\u001b[0;34m,\u001b[0m \u001b[0morder\u001b[0m\u001b[0;34m=\u001b[0m\u001b[0morder\u001b[0m\u001b[0;34m,\u001b[0m \u001b[0msubok\u001b[0m\u001b[0;34m=\u001b[0m\u001b[0;32mTrue\u001b[0m\u001b[0;34m)\u001b[0m\u001b[0;34m\u001b[0m\u001b[0;34m\u001b[0m\u001b[0m\n\u001b[0m\u001b[1;32m    139\u001b[0m \u001b[0;34m\u001b[0m\u001b[0m\n\u001b[1;32m    140\u001b[0m \u001b[0;34m\u001b[0m\u001b[0m\n",
      "\u001b[0;31mValueError\u001b[0m: could not convert string to float: 'upper_limit'"
     ]
    },
    {
     "data": {
      "image/png": "[encoded data removed]",
      "text/plain": [
       "<Figure size 432x288 with 1 Axes>"
      ]
     },
     "metadata": {
      "needs_background": "light"
     },
     "output_type": "display_data"
    }
   ],
   "source": [
    "for c in d.keys():\n",
    "    plt.scatter(range(len(dwarfs[c])), dwarfs[c])\n",
    "    plt.title(c)\n",
    "    plt.show()"
   ]
  },
  {
   "cell_type": "code",
   "execution_count": 52,
   "metadata": {},
   "outputs": [
    {
     "data": {
      "text/html": [
       "<div>\n",
       "<style scoped>\n",
       "    .dataframe tbody tr th:only-of-type {\n",
       "        vertical-align: middle;\n",
       "    }\n",
       "\n",
       "    .dataframe tbody tr th {\n",
       "        vertical-align: top;\n",
       "    }\n",
       "\n",
       "    .dataframe thead th {\n",
       "        text-align: right;\n",
       "    }\n",
       "</style>\n",
       "<table border=\"1\" class=\"dataframe\">\n",
       "  <thead>\n",
       "    <tr style=\"text-align: right;\">\n",
       "      <th></th>\n",
       "      <th>GalaxyName</th>\n",
       "      <th>orb_apocenter</th>\n",
       "    </tr>\n",
       "  </thead>\n",
       "  <tbody>\n",
       "    <tr>\n",
       "      <td>43</td>\n",
       "      <td>PiscesII</td>\n",
       "      <td>31214.0</td>\n",
       "    </tr>\n",
       "  </tbody>\n",
       "</table>\n",
       "</div>"
      ],
      "text/plain": [
       "   GalaxyName  orb_apocenter\n",
       "43   PiscesII        31214.0"
      ]
     },
     "execution_count": 52,
     "metadata": {},
     "output_type": "execute_result"
    }
   ],
   "source": [
    "dwarfs[['GalaxyName', 'orb_apocenter']][dwarfs['orb_apocenter']>25000]"
   ]
  },
  {
   "cell_type": "code",
   "execution_count": 61,
   "metadata": {},
   "outputs": [
    {
     "data": {
      "text/html": [
       "<div>\n",
       "<style scoped>\n",
       "    .dataframe tbody tr th:only-of-type {\n",
       "        vertical-align: middle;\n",
       "    }\n",
       "\n",
       "    .dataframe tbody tr th {\n",
       "        vertical-align: top;\n",
       "    }\n",
       "\n",
       "    .dataframe thead th {\n",
       "        text-align: right;\n",
       "    }\n",
       "</style>\n",
       "<table border=\"1\" class=\"dataframe\">\n",
       "  <thead>\n",
       "    <tr style=\"text-align: right;\">\n",
       "      <th></th>\n",
       "      <th>GalaxyName</th>\n",
       "      <th>rh(')</th>\n",
       "    </tr>\n",
       "  </thead>\n",
       "  <tbody>\n",
       "    <tr>\n",
       "      <td>2</td>\n",
       "      <td>SagittariusdSph</td>\n",
       "      <td>342.0</td>\n",
       "    </tr>\n",
       "    <tr>\n",
       "      <td>17</td>\n",
       "      <td>LMC</td>\n",
       "      <td>181.8</td>\n",
       "    </tr>\n",
       "    <tr>\n",
       "      <td>21</td>\n",
       "      <td>SMC</td>\n",
       "      <td>59.4</td>\n",
       "    </tr>\n",
       "  </tbody>\n",
       "</table>\n",
       "</div>"
      ],
      "text/plain": [
       "         GalaxyName  rh(')\n",
       "2   SagittariusdSph  342.0\n",
       "17              LMC  181.8\n",
       "21              SMC   59.4"
      ]
     },
     "execution_count": 61,
     "metadata": {},
     "output_type": "execute_result"
    }
   ],
   "source": [
    "dwarfs[['GalaxyName', 'rh(\\')']][dwarfs['rh(\\')']>50]"
   ]
  },
  {
   "cell_type": "code",
   "execution_count": 56,
   "metadata": {},
   "outputs": [
    {
     "data": {
      "text/html": [
       "<div>\n",
       "<style scoped>\n",
       "    .dataframe tbody tr th:only-of-type {\n",
       "        vertical-align: middle;\n",
       "    }\n",
       "\n",
       "    .dataframe tbody tr th {\n",
       "        vertical-align: top;\n",
       "    }\n",
       "\n",
       "    .dataframe thead th {\n",
       "        text-align: right;\n",
       "    }\n",
       "</style>\n",
       "<table border=\"1\" class=\"dataframe\">\n",
       "  <thead>\n",
       "    <tr style=\"text-align: right;\">\n",
       "      <th></th>\n",
       "      <th>GalaxyName</th>\n",
       "      <th>Radius</th>\n",
       "    </tr>\n",
       "  </thead>\n",
       "  <tbody>\n",
       "    <tr>\n",
       "      <td>77</td>\n",
       "      <td>Triangulum</td>\n",
       "      <td>23533.270005</td>\n",
       "    </tr>\n",
       "    <tr>\n",
       "      <td>107</td>\n",
       "      <td>HIZSS3(A)</td>\n",
       "      <td>48717.195309</td>\n",
       "    </tr>\n",
       "    <tr>\n",
       "      <td>108</td>\n",
       "      <td>HIZSS3B</td>\n",
       "      <td>48717.195309</td>\n",
       "    </tr>\n",
       "  </tbody>\n",
       "</table>\n",
       "</div>"
      ],
      "text/plain": [
       "     GalaxyName        Radius\n",
       "77   Triangulum  23533.270005\n",
       "107   HIZSS3(A)  48717.195309\n",
       "108     HIZSS3B  48717.195309"
      ]
     },
     "execution_count": 56,
     "metadata": {},
     "output_type": "execute_result"
    }
   ],
   "source": [
    "dwarfs[['GalaxyName', 'Radius']][dwarfs['Radius']>10000]"
   ]
  },
  {
   "cell_type": "code",
   "execution_count": 58,
   "metadata": {},
   "outputs": [
    {
     "data": {
      "text/html": [
       "<div>\n",
       "<style scoped>\n",
       "    .dataframe tbody tr th:only-of-type {\n",
       "        vertical-align: middle;\n",
       "    }\n",
       "\n",
       "    .dataframe tbody tr th {\n",
       "        vertical-align: top;\n",
       "    }\n",
       "\n",
       "    .dataframe thead th {\n",
       "        text-align: right;\n",
       "    }\n",
       "</style>\n",
       "<table border=\"1\" class=\"dataframe\">\n",
       "  <thead>\n",
       "    <tr style=\"text-align: right;\">\n",
       "      <th></th>\n",
       "      <th>GalaxyName</th>\n",
       "      <th>M_dyn</th>\n",
       "    </tr>\n",
       "  </thead>\n",
       "  <tbody>\n",
       "    <tr>\n",
       "      <td>77</td>\n",
       "      <td>Triangulum</td>\n",
       "      <td>1.362201e+11</td>\n",
       "    </tr>\n",
       "    <tr>\n",
       "      <td>107</td>\n",
       "      <td>HIZSS3(A)</td>\n",
       "      <td>2.819949e+11</td>\n",
       "    </tr>\n",
       "    <tr>\n",
       "      <td>108</td>\n",
       "      <td>HIZSS3B</td>\n",
       "      <td>2.819949e+11</td>\n",
       "    </tr>\n",
       "  </tbody>\n",
       "</table>\n",
       "</div>"
      ],
      "text/plain": [
       "     GalaxyName         M_dyn\n",
       "77   Triangulum  1.362201e+11\n",
       "107   HIZSS3(A)  2.819949e+11\n",
       "108     HIZSS3B  2.819949e+11"
      ]
     },
     "execution_count": 58,
     "metadata": {},
     "output_type": "execute_result"
    }
   ],
   "source": [
    "dwarfs[['GalaxyName', 'M_dyn']][dwarfs['M_dyn']>1e11]"
   ]
  },
  {
   "cell_type": "code",
   "execution_count": 60,
   "metadata": {},
   "outputs": [
    {
     "data": {
      "text/html": [
       "<div>\n",
       "<style scoped>\n",
       "    .dataframe tbody tr th:only-of-type {\n",
       "        vertical-align: middle;\n",
       "    }\n",
       "\n",
       "    .dataframe tbody tr th {\n",
       "        vertical-align: top;\n",
       "    }\n",
       "\n",
       "    .dataframe thead th {\n",
       "        text-align: right;\n",
       "    }\n",
       "</style>\n",
       "<table border=\"1\" class=\"dataframe\">\n",
       "  <thead>\n",
       "    <tr style=\"text-align: right;\">\n",
       "      <th></th>\n",
       "      <th>GalaxyName</th>\n",
       "      <th>MHI_computed</th>\n",
       "    </tr>\n",
       "  </thead>\n",
       "  <tbody>\n",
       "    <tr>\n",
       "      <td>17</td>\n",
       "      <td>LMC</td>\n",
       "      <td>4.600000e+08</td>\n",
       "    </tr>\n",
       "    <tr>\n",
       "      <td>21</td>\n",
       "      <td>SMC</td>\n",
       "      <td>4.600000e+08</td>\n",
       "    </tr>\n",
       "    <tr>\n",
       "      <td>103</td>\n",
       "      <td>NGC3109</td>\n",
       "      <td>4.500000e+08</td>\n",
       "    </tr>\n",
       "    <tr>\n",
       "      <td>112</td>\n",
       "      <td>NGC55</td>\n",
       "      <td>1.300000e+09</td>\n",
       "    </tr>\n",
       "    <tr>\n",
       "      <td>114</td>\n",
       "      <td>NGC300</td>\n",
       "      <td>1.800000e+09</td>\n",
       "    </tr>\n",
       "    <tr>\n",
       "      <td>126</td>\n",
       "      <td>UGCA86</td>\n",
       "      <td>8.600000e+08</td>\n",
       "    </tr>\n",
       "  </tbody>\n",
       "</table>\n",
       "</div>"
      ],
      "text/plain": [
       "    GalaxyName  MHI_computed\n",
       "17         LMC  4.600000e+08\n",
       "21         SMC  4.600000e+08\n",
       "103    NGC3109  4.500000e+08\n",
       "112      NGC55  1.300000e+09\n",
       "114     NGC300  1.800000e+09\n",
       "126     UGCA86  8.600000e+08"
      ]
     },
     "execution_count": 60,
     "metadata": {},
     "output_type": "execute_result"
    }
   ],
   "source": [
    "dwarfs[['GalaxyName', 'MHI_computed']][dwarfs['MHI_computed']>2.5e8]"
   ]
  },
  {
   "cell_type": "markdown",
   "metadata": {},
   "source": [
    "-familiarize with observational data\n",
    "\n",
    "-what do the columns represent physically\n",
    "\n",
    "-do some open ended exploration, perhaps looking at relationships between different characteristics and making some plots\n",
    "\n",
    "-Particularly interested in the star formation timescale (tau_90) and the neutral hydrogen gas content/HI mass (MHI_computed). Why? Only because we observed the HI mass for the first time for some of these dwarfs, so it is our unique contribution, and is also relates to the evolutionary history of the dwarfs. "
   ]
  },
  {
   "cell_type": "markdown",
   "metadata": {},
   "source": [
    "# Simulations"
   ]
  },
  {
   "cell_type": "markdown",
   "metadata": {},
   "source": [
    "We still need to get the simulated data. I'll email Christine Simpson at UChicago and cc you to request data access, then we can compare"
   ]
  },
  {
   "cell_type": "code",
   "execution_count": null,
   "metadata": {},
   "outputs": [],
   "source": []
  }
 ],
 "metadata": {
  "kernelspec": {
   "display_name": "Python 3",
   "language": "python",
   "name": "python3"
  },
  "language_info": {
   "codemirror_mode": {
    "name": "ipython",
    "version": 3
   },
   "file_extension": ".py",
   "mimetype": "text/x-python",
   "name": "python",
   "nbconvert_exporter": "python",
   "pygments_lexer": "ipython3",
   "version": "3.7.4"
  }
 },
 "nbformat": 4,
 "nbformat_minor": 4
}
