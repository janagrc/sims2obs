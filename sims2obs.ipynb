{
 "cells": [
  {
   "cell_type": "markdown",
   "metadata": {},
   "source": [
    "# Evolution of the Smallest Galaxies in the Universe"
   ]
  },
  {
   "cell_type": "markdown",
   "metadata": {},
   "source": [
    "The Milky Way swarms with orbiting satellite dwarf galaxies of astounding diversity. Some galaxies continue to form stars while others stop and dim in brightness. In computer simulations, the evolutionary history of each dwarf galaxy that leads to these differences is known. Galaxies can lose gas and stop forming stars due to early exposure to stellar radiation (reionization), interaction with the hot gas of the host (ram-pressure stripping), or gravitational interactions with the host/dwarf galaxies (tidal effects).\n",
    "\n",
    "We propose to use the characteristics of simulated dwarf galaxies from a suite of 20 Milky Way-like galaxies, each of which hosts ~100 dwarf galaxies, to train a supervised machine learning algorithm. The goal is to use only those dwarf galaxy characteristics observable in the present day as features to predict key aspects of their evolutionary history, such as the dominant mechanism by which they lose gas (classification), and/or the timescale of gas loss (regression). We will then apply the simulation-trained algorithm to the characteristics of our own Milky Way’s dwarf galaxy population, which have uncertain evolutionary histories. Identifying the likely histories of dwarf galaxies will help us to understand how galaxies form and evolve over time.\n"
   ]
  },
  {
   "cell_type": "markdown",
   "metadata": {},
   "source": [
    "We'll work with two types of data: simulations and observations. The observations come from a wide variety of sources in the literature. Our next task will be to get the data from the simulations. First stage will be to familiarize with the observational data. "
   ]
  },
  {
   "cell_type": "code",
   "execution_count": null,
   "metadata": {},
   "outputs": [],
   "source": []
  }
 ],
 "metadata": {
  "kernelspec": {
   "display_name": "Python 3",
   "language": "python",
   "name": "python3"
  },
  "language_info": {
   "codemirror_mode": {
    "name": "ipython",
    "version": 3
   },
   "file_extension": ".py",
   "mimetype": "text/x-python",
   "name": "python",
   "nbconvert_exporter": "python",
   "pygments_lexer": "ipython3",
   "version": "3.6.0"
  }
 },
 "nbformat": 4,
 "nbformat_minor": 4
}
