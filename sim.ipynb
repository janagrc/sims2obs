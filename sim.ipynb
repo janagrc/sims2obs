{
 "cells": [
  {
   "cell_type": "code",
   "execution_count": 2,
   "metadata": {},
   "outputs": [],
   "source": [
    "import h5py\n",
    "import os\n",
    "import numpy as np\n",
    "import pandas as pd"
   ]
  },
  {
   "cell_type": "markdown",
   "metadata": {},
   "source": [
    "HDF5 is a tree-like file structure to store data. The atomic element of a HDF5 file is *dataset*. Each *dataset* has the following structure:"
   ]
  },
  {
   "cell_type": "raw",
   "metadata": {},
   "source": [
    "\n",
    "+-- Dataset\n",
    "|   +-- (Raw) Data Values (eg: a 4 x 5 x 6 matrix)\n",
    "|   +-- Metadata\n",
    "|   |   +-- Dataspace (eg: Rank = 3, Dimensions = {4, 5, 6})\n",
    "|   |   +-- Datatype (eg: Integer)\n",
    "|   |   +-- Properties (eg: Chuncked, Compressed)\n",
    "|   |   +-- Attributes (eg: attr1 = 32.4, attr2 = \"hello\", ...)"
   ]
  },
  {
   "cell_type": "markdown",
   "metadata": {},
   "source": [
    "Each *dataset* contains data in matrix form (python arrays) and has meta data including data space (dimensions), data type, and properties. In addition, each *dataset* can have some arributes. Datasets can be grouped into a group (a folder). An example HDF5 file may look like this:"
   ]
  },
  {
   "cell_type": "raw",
   "metadata": {},
   "source": [
    "# +-- /\n",
    "|   +-- group_1\n",
    "|   |   +-- dataset_1_1\n",
    "|   |   |   +-- attribute_1_1_1\n",
    "|   |   |   +-- attribute_1_1_2\n",
    "|   |   |   +-- ...\n",
    "|   |   |\n",
    "|   |   +-- dataset_1_2\n",
    "|   |   |   +-- attribute_1_2_1\n",
    "|   |   |   +-- attribute_1_2_2\n",
    "|   |   |   +-- ...\n",
    "|   |   |\n",
    "|   |   +-- ...\n",
    "|   |\n",
    "|   +-- group_2\n",
    "|   |   +-- dataset_2_1\n",
    "|   |   |   +-- attribute_2_1_1\n",
    "|   |   |   +-- attribute_2_1_2\n",
    "|   |   |   +-- ...\n",
    "|   |   |\n",
    "|   |   +-- dataset_2_2\n",
    "|   |   |   +-- attribute_2_2_1\n",
    "|   |   |   +-- attribute_2_2_2\n",
    "|   |   |   +-- ...\n",
    "|   |   |\n",
    "|   |   +-- ...\n",
    "|   |\n",
    "|   +-- dataset \"dset\"\n",
    "|\t|   |   +-- attribute \"myAttr1\"\n",
    "|\t|   |   +-- attribute \"myAttr2\"\n",
    "|\t|   |   \n",
    "|   +-- ..."
   ]
  },
  {
   "cell_type": "code",
   "execution_count": 4,
   "metadata": {},
   "outputs": [],
   "source": [
    "def print_attrs(name, obj):\n",
    "    print(name)\n",
    "#     if isinstance(obj, h5py.Dataset):\n",
    "#         print(obj[:])\n",
    "    for key, val in obj.attrs.items():\n",
    "        print(\"    %s: %s\" % (key, val))"
   ]
  },
  {
   "cell_type": "code",
   "execution_count": 5,
   "metadata": {},
   "outputs": [],
   "source": [
    "root = '/Users/RaindragonD/Dropbox/sims2obs/level4_MHD'"
   ]
  },
  {
   "cell_type": "code",
   "execution_count": 6,
   "metadata": {},
   "outputs": [],
   "source": [
    "directory = os.path.join(root, 'halo_1/groups_127/')"
   ]
  },
  {
   "cell_type": "code",
   "execution_count": 7,
   "metadata": {},
   "outputs": [
    {
     "name": "stdout",
     "output_type": "stream",
     "text": [
      "/Users/RaindragonD/Dropbox/sims2obs/level4_MHD/halo_1/groups_127/fof_subhalo_tab_127.2.hdf5 :\n",
      "['Group', 'Header', 'IDs', 'Subhalo'] \n",
      "\n",
      "Group\n",
      "Header\n",
      "    BoxSize: 67.77\n",
      "    FlagDoubleprecision: 0\n",
      "    HubbleParam: 0.6777\n",
      "    Ngroups_ThisFile: 0\n",
      "    Ngroups_Total: 15876\n",
      "    Nids_ThisFile: 2288545\n",
      "    Nids_Total: 17940716\n",
      "    Nsubgroups_ThisFile: 0\n",
      "    Nsubgroups_Total: 9465\n",
      "    NumFiles: 8\n",
      "    Omega0: 0.307\n",
      "    OmegaLambda: 0.693\n",
      "    Redshift: 2.220446049250313e-16\n",
      "    Time: 0.9999999999999998\n",
      "IDs\n",
      "Subhalo\n"
     ]
    }
   ],
   "source": [
    "with h5py.File(os.path.join(directory,'fof_subhalo_tab_127.2.hdf5'), \"r\") as f:\n",
    "    # Print the keys of groups and datasets under '/'.\n",
    "    print(f.filename, \":\")\n",
    "    print([key for key in f.keys()], \"\\n\")  \n",
    "    f.visititems(print_attrs)"
   ]
  },
  {
   "cell_type": "code",
   "execution_count": 8,
   "metadata": {},
   "outputs": [
    {
     "name": "stdout",
     "output_type": "stream",
     "text": [
      "Group\n",
      "Group/GroupBHMass\n",
      "Group/GroupBHMdot\n",
      "Group/GroupCM\n",
      "Group/GroupFirstSub\n",
      "Group/GroupGasMetalFractions\n",
      "Group/GroupGasMetallicity\n",
      "Group/GroupLen\n",
      "Group/GroupLenType\n",
      "Group/GroupMass\n",
      "Group/GroupMassType\n",
      "Group/GroupNsubs\n",
      "Group/GroupPos\n",
      "Group/GroupRadioLuminosity\n",
      "Group/GroupSFR\n",
      "Group/GroupStarMetalFractions\n",
      "Group/GroupStarMetallicity\n",
      "Group/GroupVel\n",
      "Group/GroupWindMass\n",
      "Group/GroupXrayLuminosity\n",
      "Group/Group_M_Crit200\n",
      "Group/Group_M_Crit500\n",
      "Group/Group_M_Mean200\n",
      "Group/Group_M_TopHat200\n",
      "Group/Group_R_Crit200\n",
      "Group/Group_R_Crit500\n",
      "Group/Group_R_Mean200\n",
      "Group/Group_R_TopHat200\n",
      "Header\n",
      "    BoxSize: 67.77\n",
      "    FlagDoubleprecision: 0\n",
      "    HubbleParam: 0.6777\n",
      "    Ngroups_ThisFile: 11\n",
      "    Ngroups_Total: 15876\n",
      "    Nids_ThisFile: 2203483\n",
      "    Nids_Total: 17940716\n",
      "    Nsubgroups_ThisFile: 162\n",
      "    Nsubgroups_Total: 9465\n",
      "    NumFiles: 8\n",
      "    Omega0: 0.307\n",
      "    OmegaLambda: 0.693\n",
      "    Redshift: 2.220446049250313e-16\n",
      "    Time: 0.9999999999999998\n",
      "IDs\n",
      "Subhalo\n",
      "Subhalo/SubhaloBHMass\n",
      "Subhalo/SubhaloBHMdot\n",
      "Subhalo/SubhaloCM\n",
      "Subhalo/SubhaloGasMetalFractions\n",
      "Subhalo/SubhaloGasMetalFractionsHalfRad\n",
      "Subhalo/SubhaloGasMetalFractionsMaxRad\n",
      "Subhalo/SubhaloGasMetalFractionsSfr\n",
      "Subhalo/SubhaloGasMetalFractionsSfrWeighted\n",
      "Subhalo/SubhaloGasMetallicity\n",
      "Subhalo/SubhaloGasMetallicityHalfRad\n",
      "Subhalo/SubhaloGasMetallicityMaxRad\n",
      "Subhalo/SubhaloGasMetallicitySfr\n",
      "Subhalo/SubhaloGasMetallicitySfrWeighted\n",
      "Subhalo/SubhaloGrNr\n",
      "Subhalo/SubhaloHalfmassRad\n",
      "Subhalo/SubhaloHalfmassRadType\n",
      "Subhalo/SubhaloIDMostbound\n",
      "Subhalo/SubhaloLen\n",
      "Subhalo/SubhaloLenType\n",
      "Subhalo/SubhaloMass\n",
      "Subhalo/SubhaloMassInHalfRad\n",
      "Subhalo/SubhaloMassInHalfRadType\n",
      "Subhalo/SubhaloMassInMaxRad\n",
      "Subhalo/SubhaloMassInMaxRadType\n",
      "Subhalo/SubhaloMassInRad\n",
      "Subhalo/SubhaloMassInRadType\n",
      "Subhalo/SubhaloMassType\n",
      "Subhalo/SubhaloParent\n",
      "Subhalo/SubhaloPos\n",
      "Subhalo/SubhaloSFR\n",
      "Subhalo/SubhaloSFRinHalfRad\n",
      "Subhalo/SubhaloSFRinMaxRad\n",
      "Subhalo/SubhaloSFRinRad\n",
      "Subhalo/SubhaloSpin\n",
      "Subhalo/SubhaloStarMetalFractions\n",
      "Subhalo/SubhaloStarMetalFractionsHalfRad\n",
      "Subhalo/SubhaloStarMetalFractionsMaxRad\n",
      "Subhalo/SubhaloStarMetallicity\n",
      "Subhalo/SubhaloStarMetallicityHalfRad\n",
      "Subhalo/SubhaloStarMetallicityMaxRad\n",
      "Subhalo/SubhaloStellarPhotometrics\n",
      "Subhalo/SubhaloStellarPhotometricsMassInRad\n",
      "Subhalo/SubhaloStellarPhotometricsRad\n",
      "Subhalo/SubhaloVel\n",
      "Subhalo/SubhaloVelDisp\n",
      "Subhalo/SubhaloVmax\n",
      "Subhalo/SubhaloVmaxRad\n",
      "Subhalo/SubhaloWindMass\n"
     ]
    }
   ],
   "source": [
    "for filename in os.listdir(directory):\n",
    "    with h5py.File(os.path.join(directory, filename), \"r\") as f:\n",
    "        f.visititems(print_attrs)\n",
    "    break"
   ]
  },
  {
   "cell_type": "code",
   "execution_count": null,
   "metadata": {},
   "outputs": [],
   "source": []
  },
  {
   "cell_type": "code",
   "execution_count": 12,
   "metadata": {},
   "outputs": [
    {
     "name": "stdout",
     "output_type": "stream",
     "text": [
      "fof_subhalo_tab_127.4.hdf5\n",
      "[ 2  2  2  2  2  2  2  2  2  2  2  2  2  2  2  2  2  2  2  2  2  2  2  2\n",
      "  2  2  2  2  2  2  2  2  2  2  2  2  2  2  2  2  2  3  3  3  3  3  3  3\n",
      "  3  3  3  3  4  4  4  4  4  4  4  4  5  5  5  5  5  5  5  5  6  6  6  6\n",
      "  6  6  6  6  6  6  6  6  6  6  6  6  6  6  6  6  6  6  6  6  6  7  7  7\n",
      "  7  7  7  7  7  7  7  8  8  8  8  8  8  8  8  8  8  9  9  9  9  9  9  9\n",
      "  9  9  9  9  9  9  9  9  9  9  9  9  9  9  9  9  9  9  9  9  9  9  9  9\n",
      " 10 10 10 10 10 10 10 10 10 11 11 11 11 12 12 12 12 12]\n",
      "fof_subhalo_tab_127.5.hdf5\n",
      "[  13   13   14 ... 1971 1972 1973]\n",
      "fof_subhalo_tab_127.2.hdf5\n"
     ]
    },
    {
     "ename": "KeyError",
     "evalue": "\"Unable to open object (object 'SubhaloGrNr' doesn't exist)\"",
     "output_type": "error",
     "traceback": [
      "\u001b[0;31m---------------------------------------------------------------------------\u001b[0m",
      "\u001b[0;31mKeyError\u001b[0m                                  Traceback (most recent call last)",
      "\u001b[0;32m<ipython-input-12-5eb8a46539e4>\u001b[0m in \u001b[0;36m<module>\u001b[0;34m\u001b[0m\n\u001b[1;32m      4\u001b[0m \u001b[0;31m#         print(f['Group']['GroupCM'][:])\u001b[0m\u001b[0;34m\u001b[0m\u001b[0;34m\u001b[0m\u001b[0;34m\u001b[0m\u001b[0m\n\u001b[1;32m      5\u001b[0m         \u001b[0msubhalo\u001b[0m \u001b[0;34m=\u001b[0m \u001b[0mf\u001b[0m\u001b[0;34m[\u001b[0m\u001b[0;34m\"Subhalo\"\u001b[0m\u001b[0;34m]\u001b[0m\u001b[0;34m\u001b[0m\u001b[0;34m\u001b[0m\u001b[0m\n\u001b[0;32m----> 6\u001b[0;31m         \u001b[0mprint\u001b[0m\u001b[0;34m(\u001b[0m\u001b[0msubhalo\u001b[0m\u001b[0;34m[\u001b[0m\u001b[0;34m'SubhaloGrNr'\u001b[0m\u001b[0;34m]\u001b[0m\u001b[0;34m[\u001b[0m\u001b[0;34m:\u001b[0m\u001b[0;34m]\u001b[0m\u001b[0;34m)\u001b[0m\u001b[0;34m\u001b[0m\u001b[0;34m\u001b[0m\u001b[0m\n\u001b[0m\u001b[1;32m      7\u001b[0m \u001b[0;31m#         for name, attr in subhalo.items():\u001b[0m\u001b[0;34m\u001b[0m\u001b[0;34m\u001b[0m\u001b[0;34m\u001b[0m\u001b[0m\n\u001b[1;32m      8\u001b[0m \u001b[0;31m#             print(name)\u001b[0m\u001b[0;34m\u001b[0m\u001b[0;34m\u001b[0m\u001b[0;34m\u001b[0m\u001b[0m\n",
      "\u001b[0;32mh5py/_objects.pyx\u001b[0m in \u001b[0;36mh5py._objects.with_phil.wrapper\u001b[0;34m()\u001b[0m\n",
      "\u001b[0;32mh5py/_objects.pyx\u001b[0m in \u001b[0;36mh5py._objects.with_phil.wrapper\u001b[0;34m()\u001b[0m\n",
      "\u001b[0;32m~/opt/anaconda3/lib/python3.7/site-packages/h5py/_hl/group.py\u001b[0m in \u001b[0;36m__getitem__\u001b[0;34m(self, name)\u001b[0m\n\u001b[1;32m    262\u001b[0m                 \u001b[0;32mraise\u001b[0m \u001b[0mValueError\u001b[0m\u001b[0;34m(\u001b[0m\u001b[0;34m\"Invalid HDF5 object reference\"\u001b[0m\u001b[0;34m)\u001b[0m\u001b[0;34m\u001b[0m\u001b[0;34m\u001b[0m\u001b[0m\n\u001b[1;32m    263\u001b[0m         \u001b[0;32melse\u001b[0m\u001b[0;34m:\u001b[0m\u001b[0;34m\u001b[0m\u001b[0;34m\u001b[0m\u001b[0m\n\u001b[0;32m--> 264\u001b[0;31m             \u001b[0moid\u001b[0m \u001b[0;34m=\u001b[0m \u001b[0mh5o\u001b[0m\u001b[0;34m.\u001b[0m\u001b[0mopen\u001b[0m\u001b[0;34m(\u001b[0m\u001b[0mself\u001b[0m\u001b[0;34m.\u001b[0m\u001b[0mid\u001b[0m\u001b[0;34m,\u001b[0m \u001b[0mself\u001b[0m\u001b[0;34m.\u001b[0m\u001b[0m_e\u001b[0m\u001b[0;34m(\u001b[0m\u001b[0mname\u001b[0m\u001b[0;34m)\u001b[0m\u001b[0;34m,\u001b[0m \u001b[0mlapl\u001b[0m\u001b[0;34m=\u001b[0m\u001b[0mself\u001b[0m\u001b[0;34m.\u001b[0m\u001b[0m_lapl\u001b[0m\u001b[0;34m)\u001b[0m\u001b[0;34m\u001b[0m\u001b[0;34m\u001b[0m\u001b[0m\n\u001b[0m\u001b[1;32m    265\u001b[0m \u001b[0;34m\u001b[0m\u001b[0m\n\u001b[1;32m    266\u001b[0m         \u001b[0motype\u001b[0m \u001b[0;34m=\u001b[0m \u001b[0mh5i\u001b[0m\u001b[0;34m.\u001b[0m\u001b[0mget_type\u001b[0m\u001b[0;34m(\u001b[0m\u001b[0moid\u001b[0m\u001b[0;34m)\u001b[0m\u001b[0;34m\u001b[0m\u001b[0;34m\u001b[0m\u001b[0m\n",
      "\u001b[0;32mh5py/_objects.pyx\u001b[0m in \u001b[0;36mh5py._objects.with_phil.wrapper\u001b[0;34m()\u001b[0m\n",
      "\u001b[0;32mh5py/_objects.pyx\u001b[0m in \u001b[0;36mh5py._objects.with_phil.wrapper\u001b[0;34m()\u001b[0m\n",
      "\u001b[0;32mh5py/h5o.pyx\u001b[0m in \u001b[0;36mh5py.h5o.open\u001b[0;34m()\u001b[0m\n",
      "\u001b[0;31mKeyError\u001b[0m: \"Unable to open object (object 'SubhaloGrNr' doesn't exist)\""
     ]
    }
   ],
   "source": [
    "for filename in os.listdir(directory):\n",
    "    print(filename)\n",
    "    with h5py.File(os.path.join(directory, filename), \"r\") as f:\n",
    "#         print(f['Group']['GroupCM'][:])\n",
    "        subhalo = f[\"Subhalo\"]\n",
    "        print(subhalo['SubhaloGrNr'][:])\n",
    "#         for name, attr in subhalo.items():\n",
    "#             print(name)\n",
    "#             data = np.array(attr[:])\n",
    "#             print(data)\n",
    "\n",
    "#         # Print the data of 'dset'.\n",
    "#         print(d.name, \":\")\n",
    "#         print(d)\n",
    "\n",
    "#         # Print the attributes of dataset 'dset'.\n",
    "#         for key in d.attrs.keys():\n",
    "#             print(key, \":\", d.attrs[key])\n",
    "\n",
    "#         print()\n",
    "        \n",
    "#     break"
   ]
  },
  {
   "cell_type": "code",
   "execution_count": null,
   "metadata": {},
   "outputs": [],
   "source": []
  },
  {
   "cell_type": "code",
   "execution_count": null,
   "metadata": {},
   "outputs": [],
   "source": []
  }
 ],
 "metadata": {
  "kernelspec": {
   "display_name": "Python 3",
   "language": "python",
   "name": "python3"
  },
  "language_info": {
   "codemirror_mode": {
    "name": "ipython",
    "version": 3
   },
   "file_extension": ".py",
   "mimetype": "text/x-python",
   "name": "python",
   "nbconvert_exporter": "python",
   "pygments_lexer": "ipython3",
   "version": "3.7.4"
  }
 },
 "nbformat": 4,
 "nbformat_minor": 2
}
